{
 "cells": [
  {
   "cell_type": "code",
   "execution_count": 1,
   "metadata": {},
   "outputs": [],
   "source": [
    "import os\n",
    "import pandas as pd\n",
    "import numpy as np\n",
    "import seaborn as sns\n",
    "import matplotlib.pyplot as plt\n",
    "from IPython.core.display import display, HTML\n",
    "%matplotlib inline"
   ]
  },
  {
   "cell_type": "code",
   "execution_count": 15,
   "metadata": {},
   "outputs": [
    {
     "data": {
      "text/html": [
       "<style>.container { width:100% !important; }</style>"
      ],
      "text/plain": [
       "<IPython.core.display.HTML object>"
      ]
     },
     "metadata": {},
     "output_type": "display_data"
    }
   ],
   "source": [
    "import re\n",
    "import yaml\n",
    "import geopandas as gpd\n",
    "import requests\n",
    "import shutil\n",
    "import pprint\n",
    "from urllib.request import urlretrieve\n",
    "from datetime import datetime\n",
    "from zipfile import ZipFile\n",
    "\n",
    "# Notebook Styling \n",
    "sns.set()\n",
    "pd.options.display.max_columns = None\n",
    "display(HTML(\"<style>.container { width:100% !important; }</style>\"))\n",
    "\n",
    "DATA_DIR = os.path.join('..', 'data_raw')"
   ]
  },
  {
   "cell_type": "code",
   "execution_count": null,
   "metadata": {},
   "outputs": [],
   "source": [
    "from typing import (\n",
    "    Dict,\n",
    "    List,\n",
    "    Tuple,\n",
    "    Set,\n",
    "    Deque,\n",
    "    NamedTuple,\n",
    "    IO,\n",
    "    Pattern,\n",
    "    Match,\n",
    "    Text,\n",
    "    Optional,\n",
    "    Sequence,\n",
    "    Iterable,\n",
    "    Mapping,\n",
    "    MutableMapping,\n",
    "    Any,\n",
    ")"
   ]
  },
  {
   "cell_type": "code",
   "execution_count": 3,
   "metadata": {},
   "outputs": [],
   "source": [
    "def ensure_dir_exists(DIR_PATH):\n",
    "    if not os.path.isdir(DIR_PATH):\n",
    "        os.makedirs(DIR_PATH)\n",
    "        \n",
    "def freq_label_selector(freq):\n",
    "    if freq.lower() == 'm':\n",
    "        return 'Month'\n",
    "    elif freq.lower() == 'q':\n",
    "        return 'Quarter'\n",
    "    else:\n",
    "        return 'Year'"
   ]
  },
  {
   "cell_type": "code",
   "execution_count": 4,
   "metadata": {},
   "outputs": [],
   "source": [
    "nyc_data_urls = {\n",
    "    'nypd_shooting_historic':{\n",
    "        'url':'https://data.cityofnewyork.us/api/views/833y-fsy8/rows.csv?accessType=DOWNLOAD',\n",
    "        'filename':'nypd_shooting_historic.csv',\n",
    "    },\n",
    "    'nypd_shooting_ytd':{\n",
    "        'url':'https://data.cityofnewyork.us/api/views/5ucz-vwe8/rows.csv?accessType=DOWNLOAD',\n",
    "        'filename':'nypd_shooting_ytd.csv',\n",
    "    }    \n",
    "}"
   ]
  },
  {
   "cell_type": "code",
   "execution_count": 20,
   "metadata": {},
   "outputs": [],
   "source": [
    "def get_nypd_data_table_urls():\n",
    "    YAML_DIR = os.path.join('..', 'yaml_files')\n",
    "    ensure_dir_exists(YAML_DIR)\n",
    "    yaml_path = os.path.join(YAML_DIR, 'nypd_data_urls.yaml')\n",
    "    \n",
    "    if not os.path.isfile(yaml_path):\n",
    "        print('Making first yaml data file')\n",
    "        # Initial data load\n",
    "        nyc_data_urls = {\n",
    "            'nypd_shooting_historic':'https://data.cityofnewyork.us/api/views/833y-fsy8/rows.csv?accessType=DOWNLOAD',\n",
    "            'nypd_shooting_ytd':'https://data.cityofnewyork.us/api/views/5ucz-vwe8/rows.csv?accessType=DOWNLOAD',\n",
    "            'nypd_arrest_historic':'https://data.cityofnewyork.us/api/views/8h9b-rp9u/rows.csv?accessType=DOWNLOAD',\n",
    "            'nypd_arrest_ytd':'https://data.cityofnewyork.us/api/views/uip8-fykc/rows.csv?accessType=DOWNLOAD',\n",
    "            'nypd_complaint_historic':'https://data.cityofnewyork.us/api/views/qgea-i56i/rows.csv?accessType=DOWNLOAD',\n",
    "            'nypd_complaint_ytd':'https://data.cityofnewyork.us/api/views/5uac-w243/rows.csv?accessType=DOWNLOAD',\n",
    "        }\n",
    "        yaml.dump(data=nyc_data_urls, stream=open(yaml_path, 'w'))\n",
    "    nyc_data_urls = yaml.load(stream=open(os.path.join(yaml_path), 'r'), Loader=yaml.FullLoader)\n",
    "    return nyc_data_urls"
   ]
  },
  {
   "cell_type": "code",
   "execution_count": 7,
   "metadata": {},
   "outputs": [
    {
     "data": {
      "text/plain": [
       "'https://data.cityofnewyork.us/api/views/5ucz-vwe8/rows.csv?accessType=DOWNLOAD'"
      ]
     },
     "execution_count": 7,
     "metadata": {},
     "output_type": "execute_result"
    }
   ],
   "source": [
    "nyc_data_urls['nypd_shooting_ytd']"
   ]
  },
  {
   "cell_type": "code",
   "execution_count": null,
   "metadata": {},
   "outputs": [],
   "source": [
    "def download_from_data_portal(data_url, file_name, max_days_before_update = 7, \n",
    "                                      DEBUG = False):\n",
    "    dir_path = os.path.join(DATA_DIR)\n",
    "    file_path = os.path.join(dir_path, file_name)\n",
    "    if DEBUG: print(f\"dir_path:  {dir_path}\")\n",
    "    if DEBUG: print(f\"file_path: {file_path}\")\n",
    "    ensure_dir_exists(dir_path)\n",
    "    if (os.path.isfile(file_path)):\n",
    "        file_datetime = datetime.fromtimestamp(os.path.getmtime(file_path))\n",
    "        file_age = (datetime.now() - file_datetime).seconds\n",
    "    if ('file_age' in locals()) and (file_age < (max_days_before_update * 24 * 60 * 60)):\n",
    "        print(f'Data already downloaded and extracted within the past {max_days_before_update} days.')        \n",
    "    else:\n",
    "        urlretrieve(data_url, file_path)\n",
    "        print(f\"{file_name} data successfully downloaded\")\n",
    "    if DEBUG: \n",
    "        pp = pprint.PrettyPrinter(indent=4)\n",
    "        print('Local variables:')\n",
    "        pp.pprint(locals())   "
   ]
  },
  {
   "cell_type": "code",
   "execution_count": 9,
   "metadata": {},
   "outputs": [
    {
     "name": "stdout",
     "output_type": "stream",
     "text": [
      "File age: 3153600000 (seconds), 36500.0 (days), 100.0 (years)\n"
     ]
    }
   ],
   "source": [
    "data_table_name = 'nypd_shooting_historic'\n",
    "\n",
    "dir_path = os.path.join(DATA_DIR)\n",
    "file_path = os.path.join(dir_path, f\"{data_table_name}.csv\")\n",
    "ensure_dir_exists(dir_path)\n",
    "if (os.path.isfile(file_path)):\n",
    "    file_datetime = datetime.fromtimestamp(os.path.getmtime(file_path))\n",
    "    file_age = (datetime.now() - file_datetime).seconds\n",
    "else:\n",
    "    file_age = 100 * 365 * 24 * 60 * 60\n",
    "print(f\"File age: {file_age} (seconds), {file_age / (24 * 60 * 60)} (days), {file_age / (365 * 24 * 60 * 60)} (years)\")"
   ]
  },
  {
   "cell_type": "code",
   "execution_count": 13,
   "metadata": {},
   "outputs": [],
   "source": [
    "def get_age_of_data_pull(data_table_name: str, VERBOSE = False) -> float:\n",
    "    \"\"\" Checks to the raw_data file of the most recent data pull. If it exists, it returns\n",
    "    the age of the file in days. If it doesn't exist, it returns 36500 days. \"\"\"\n",
    "    dir_path = os.path.join(DATA_DIR)\n",
    "    file_path = os.path.join(dir_path, f\"{data_table_name}.csv\")\n",
    "    ensure_dir_exists(dir_path)\n",
    "    if (os.path.isfile(file_path)):\n",
    "        file_datetime = datetime.fromtimestamp(os.path.getmtime(file_path))\n",
    "        file_age = ((datetime.now() - file_datetime).seconds) / (24 * 60 * 60)\n",
    "    else:\n",
    "        file_age = 100 * 365\n",
    "    if VERBOSE: \n",
    "        print(f\"{file_age} (days)\")\n",
    "        print(f\"{file_age / 365} (years)\")\n",
    "    return file_age"
   ]
  },
  {
   "cell_type": "code",
   "execution_count": 14,
   "metadata": {},
   "outputs": [
    {
     "data": {
      "text/plain": [
       "36500"
      ]
     },
     "execution_count": 14,
     "metadata": {},
     "output_type": "execute_result"
    }
   ],
   "source": [
    "get_age_of_data_pull(data_table_name = 'nypd_shooting_historic')"
   ]
  },
  {
   "cell_type": "code",
   "execution_count": null,
   "metadata": {},
   "outputs": [],
   "source": [
    "data_table_name = 'nypd_shooting_historic'\n",
    "\n",
    "file_age = get_age_of_data_pull(data_table_name = 'nypd_shooting_historic')"
   ]
  },
  {
   "cell_type": "code",
   "execution_count": null,
   "metadata": {},
   "outputs": [],
   "source": []
  },
  {
   "cell_type": "code",
   "execution_count": null,
   "metadata": {},
   "outputs": [],
   "source": []
  },
  {
   "cell_type": "code",
   "execution_count": null,
   "metadata": {},
   "outputs": [],
   "source": [
    "data_url\n",
    "file_name\n",
    "max_days_before_update = 7\n",
    "DEBUG = False\n",
    "\n",
    "    dir_path = os.path.join(DATA_DIR)\n",
    "    file_path = os.path.join(dir_path, file_name)\n",
    "    if DEBUG: print(f\"dir_path:  {dir_path}\")\n",
    "    if DEBUG: print(f\"file_path: {file_path}\")\n",
    "    ensure_dir_exists(dir_path)\n",
    "    if (os.path.isfile(file_path)):\n",
    "        file_datetime = datetime.fromtimestamp(os.path.getmtime(file_path))\n",
    "        file_age = (datetime.now() - file_datetime).seconds\n",
    "    if ('file_age' in locals()) and (file_age < (max_days_before_update * 24 * 60 * 60)):\n",
    "        print(f'Data already downloaded and extracted within the past {max_days_before_update} days.')        \n",
    "    else:\n",
    "        urlretrieve(data_url, file_path)\n",
    "        print(f\"{file_name} data successfully downloaded\")\n",
    "    if DEBUG: \n",
    "        pp = pprint.PrettyPrinter(indent=4)\n",
    "        print('Local variables:')\n",
    "        pp.pprint(locals())   "
   ]
  },
  {
   "cell_type": "code",
   "execution_count": null,
   "metadata": {},
   "outputs": [],
   "source": []
  },
  {
   "cell_type": "code",
   "execution_count": null,
   "metadata": {},
   "outputs": [],
   "source": []
  },
  {
   "cell_type": "code",
   "execution_count": null,
   "metadata": {},
   "outputs": [],
   "source": []
  },
  {
   "cell_type": "code",
   "execution_count": null,
   "metadata": {},
   "outputs": [],
   "source": []
  },
  {
   "cell_type": "code",
   "execution_count": null,
   "metadata": {},
   "outputs": [],
   "source": []
  },
  {
   "cell_type": "code",
   "execution_count": null,
   "metadata": {},
   "outputs": [],
   "source": []
  },
  {
   "cell_type": "code",
   "execution_count": null,
   "metadata": {},
   "outputs": [],
   "source": []
  },
  {
   "cell_type": "code",
   "execution_count": null,
   "metadata": {},
   "outputs": [],
   "source": []
  },
  {
   "cell_type": "code",
   "execution_count": null,
   "metadata": {},
   "outputs": [],
   "source": []
  },
  {
   "cell_type": "code",
   "execution_count": null,
   "metadata": {},
   "outputs": [],
   "source": []
  },
  {
   "cell_type": "code",
   "execution_count": null,
   "metadata": {},
   "outputs": [],
   "source": []
  },
  {
   "cell_type": "code",
   "execution_count": null,
   "metadata": {},
   "outputs": [],
   "source": []
  },
  {
   "cell_type": "code",
   "execution_count": null,
   "metadata": {},
   "outputs": [],
   "source": []
  },
  {
   "cell_type": "code",
   "execution_count": null,
   "metadata": {},
   "outputs": [],
   "source": []
  },
  {
   "cell_type": "code",
   "execution_count": null,
   "metadata": {},
   "outputs": [],
   "source": []
  }
 ],
 "metadata": {
  "kernelspec": {
   "display_name": "Python (geo_env)",
   "language": "python",
   "name": "geo_env"
  },
  "language_info": {
   "codemirror_mode": {
    "name": "ipython",
    "version": 3
   },
   "file_extension": ".py",
   "mimetype": "text/x-python",
   "name": "python",
   "nbconvert_exporter": "python",
   "pygments_lexer": "ipython3",
   "version": "3.8.3"
  }
 },
 "nbformat": 4,
 "nbformat_minor": 4
}
