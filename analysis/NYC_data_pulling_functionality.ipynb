{
 "cells": [
  {
   "cell_type": "code",
   "execution_count": 1,
   "metadata": {},
   "outputs": [],
   "source": [
    "import os\n",
    "import pandas as pd\n",
    "import numpy as np\n",
    "import seaborn as sns\n",
    "import matplotlib.pyplot as plt\n",
    "from IPython.core.display import display, HTML\n",
    "%matplotlib inline"
   ]
  },
  {
   "cell_type": "code",
   "execution_count": 15,
   "metadata": {},
   "outputs": [
    {
     "data": {
      "text/html": [
       "<style>.container { width:100% !important; }</style>"
      ],
      "text/plain": [
       "<IPython.core.display.HTML object>"
      ]
     },
     "metadata": {},
     "output_type": "display_data"
    }
   ],
   "source": [
    "import re\n",
    "import yaml\n",
    "import geopandas as gpd\n",
    "import requests\n",
    "import shutil\n",
    "import pprint\n",
    "from urllib.request import urlretrieve\n",
    "from datetime import datetime\n",
    "from zipfile import ZipFile\n",
    "\n",
    "# Notebook Styling \n",
    "sns.set()\n",
    "pd.options.display.max_columns = None\n",
    "display(HTML(\"<style>.container { width:100% !important; }</style>\"))\n",
    "\n",
    "DATA_DIR = os.path.join('..', 'data_raw')"
   ]
  },
  {
   "cell_type": "code",
   "execution_count": null,
   "metadata": {},
   "outputs": [],
   "source": [
    "# from typing import (\n",
    "#     Dict,\n",
    "#     List,\n",
    "#     Tuple,\n",
    "#     Set,\n",
    "#     Deque,\n",
    "#     NamedTuple,\n",
    "#     IO,\n",
    "#     Pattern,\n",
    "#     Match,\n",
    "#     Text,\n",
    "#     Optional,\n",
    "#     Sequence,\n",
    "#     Iterable,\n",
    "#     Mapping,\n",
    "#     MutableMapping,\n",
    "#     Any,\n",
    "# )"
   ]
  },
  {
   "cell_type": "code",
   "execution_count": 3,
   "metadata": {},
   "outputs": [],
   "source": [
    "def ensure_dir_exists(DIR_PATH):\n",
    "    if not os.path.isdir(DIR_PATH):\n",
    "        os.makedirs(DIR_PATH)\n",
    "        \n",
    "def freq_label_selector(freq):\n",
    "    if freq.lower() == 'm':\n",
    "        return 'Month'\n",
    "    elif freq.lower() == 'q':\n",
    "        return 'Quarter'\n",
    "    else:\n",
    "        return 'Year'"
   ]
  },
  {
   "cell_type": "code",
   "execution_count": 20,
   "metadata": {},
   "outputs": [],
   "source": [
    "def get_nypd_data_table_urls():\n",
    "    YAML_DIR = os.path.join('..', 'yaml_files')\n",
    "    ensure_dir_exists(YAML_DIR)\n",
    "    yaml_path = os.path.join(YAML_DIR, 'nypd_data_urls.yaml')\n",
    "    \n",
    "    if not os.path.isfile(yaml_path):\n",
    "        print('Making first yaml data file')\n",
    "        # Initial data load\n",
    "        nyc_data_urls = {\n",
    "            'nypd_shooting_historic':'https://data.cityofnewyork.us/api/views/833y-fsy8/rows.csv?accessType=DOWNLOAD',\n",
    "            'nypd_shooting_ytd':'https://data.cityofnewyork.us/api/views/5ucz-vwe8/rows.csv?accessType=DOWNLOAD',\n",
    "            'nypd_arrest_historic':'https://data.cityofnewyork.us/api/views/8h9b-rp9u/rows.csv?accessType=DOWNLOAD',\n",
    "            'nypd_arrest_ytd':'https://data.cityofnewyork.us/api/views/uip8-fykc/rows.csv?accessType=DOWNLOAD',\n",
    "            'nypd_complaint_historic':'https://data.cityofnewyork.us/api/views/qgea-i56i/rows.csv?accessType=DOWNLOAD',\n",
    "            'nypd_complaint_ytd':'https://data.cityofnewyork.us/api/views/5uac-w243/rows.csv?accessType=DOWNLOAD',\n",
    "        }\n",
    "        yaml.dump(data=nyc_data_urls, stream=open(yaml_path, 'w'))\n",
    "    nyc_data_urls = yaml.load(stream=open(os.path.join(yaml_path), 'r'), Loader=yaml.FullLoader)\n",
    "    return nyc_data_urls"
   ]
  },
  {
   "cell_type": "code",
   "execution_count": 22,
   "metadata": {},
   "outputs": [],
   "source": [
    "nyc_data_urls = get_nypd_data_table_urls()"
   ]
  },
  {
   "cell_type": "code",
   "execution_count": 23,
   "metadata": {},
   "outputs": [
    {
     "data": {
      "text/plain": [
       "{'nypd_arrest_historic': 'https://data.cityofnewyork.us/api/views/8h9b-rp9u/rows.csv?accessType=DOWNLOAD',\n",
       " 'nypd_arrest_ytd': 'https://data.cityofnewyork.us/api/views/uip8-fykc/rows.csv?accessType=DOWNLOAD',\n",
       " 'nypd_complaint_historic': 'https://data.cityofnewyork.us/api/views/qgea-i56i/rows.csv?accessType=DOWNLOAD',\n",
       " 'nypd_complaint_ytd': 'https://data.cityofnewyork.us/api/views/5uac-w243/rows.csv?accessType=DOWNLOAD',\n",
       " 'nypd_shooting_historic': 'https://data.cityofnewyork.us/api/views/833y-fsy8/rows.csv?accessType=DOWNLOAD',\n",
       " 'nypd_shooting_ytd': 'https://data.cityofnewyork.us/api/views/5ucz-vwe8/rows.csv?accessType=DOWNLOAD'}"
      ]
     },
     "execution_count": 23,
     "metadata": {},
     "output_type": "execute_result"
    }
   ],
   "source": [
    "nyc_data_urls"
   ]
  },
  {
   "cell_type": "code",
   "execution_count": 43,
   "metadata": {},
   "outputs": [],
   "source": [
    "def get_age_of_data_pull(data_table_name: str, DATA_DIR: str = DATA_DIR, VERBOSE: bool = False) -> float:\n",
    "    \"\"\" Checks to the raw_data file of the most recent data pull. If it exists, it returns\n",
    "    the age of the file in days. If it doesn't exist, it returns 36500 days. \"\"\"\n",
    "    dir_path = os.path.join(DATA_DIR)\n",
    "    file_path = os.path.join(dir_path, f\"{data_table_name}.csv\")\n",
    "    ensure_dir_exists(dir_path)\n",
    "    if (os.path.isfile(file_path)):\n",
    "        file_datetime = datetime.fromtimestamp(os.path.getmtime(file_path))\n",
    "        file_age = ((datetime.now() - file_datetime).seconds) / (24 * 60 * 60)\n",
    "    else:\n",
    "        file_age = 100 * 365\n",
    "    if VERBOSE: \n",
    "        print(f\"{file_age} (days)\")\n",
    "        print(f\"{file_age / 365} (years)\")\n",
    "    return file_age"
   ]
  },
  {
   "cell_type": "code",
   "execution_count": 45,
   "metadata": {},
   "outputs": [
    {
     "data": {
      "text/plain": [
       "0.01974537037037037"
      ]
     },
     "execution_count": 45,
     "metadata": {},
     "output_type": "execute_result"
    }
   ],
   "source": [
    "get_age_of_data_pull(data_table_name = 'nypd_shooting_historic')"
   ]
  },
  {
   "cell_type": "code",
   "execution_count": 48,
   "metadata": {},
   "outputs": [],
   "source": [
    "def pull_raw_data_table(data_table_name: str, max_days_before_update: int = 7, \n",
    "                        DATA_DIR: str = DATA_DIR) -> None:\n",
    "    data_urls = get_nypd_data_table_urls()\n",
    "    if data_table_name in data_urls.keys():\n",
    "        file_path = os.path.join(DATA_DIR, f'{data_table_name}.csv')\n",
    "        file_age = get_age_of_data_pull(data_table_name = data_table_name)\n",
    "        if file_age > max_days_before_update:\n",
    "            urlretrieve(data_urls[data_table_name], file_path)\n",
    "            print(f\"{data_table_name} data successfully downloaded\")\n",
    "    else:\n",
    "        print(f'No known URL for the (alleged) data table with the name {data_table_name}.')"
   ]
  },
  {
   "cell_type": "code",
   "execution_count": 32,
   "metadata": {},
   "outputs": [
    {
     "name": "stdout",
     "output_type": "stream",
     "text": [
      "nypd_shooting_ytd data successfully downloaded\n"
     ]
    }
   ],
   "source": [
    "pull_raw_data_table(data_table_name = 'nypd_shooting_ytd')"
   ]
  },
  {
   "cell_type": "code",
   "execution_count": 34,
   "metadata": {},
   "outputs": [
    {
     "name": "stdout",
     "output_type": "stream",
     "text": [
      "nypd_arrest_historic data successfully downloaded\n"
     ]
    }
   ],
   "source": [
    "pull_raw_data_table(data_table_name = 'nypd_arrest_historic')"
   ]
  },
  {
   "cell_type": "code",
   "execution_count": 36,
   "metadata": {},
   "outputs": [
    {
     "name": "stdout",
     "output_type": "stream",
     "text": [
      "nypd_arrest_ytd data successfully downloaded\n"
     ]
    }
   ],
   "source": [
    "pull_raw_data_table(data_table_name = 'nypd_arrest_ytd')"
   ]
  },
  {
   "cell_type": "code",
   "execution_count": 49,
   "metadata": {},
   "outputs": [
    {
     "name": "stdout",
     "output_type": "stream",
     "text": [
      "nypd_complaint_historic data successfully downloaded\n"
     ]
    }
   ],
   "source": [
    "pull_raw_data_table(data_table_name = 'nypd_complaint_historic')"
   ]
  },
  {
   "cell_type": "code",
   "execution_count": 47,
   "metadata": {},
   "outputs": [],
   "source": [
    "def load_data_table(data_table_name: str, DATA_DIR: str = DATA_DIR) -> pd.DataFrame:\n",
    "    data_urls = get_nypd_data_table_urls()\n",
    "    if data_table_name in data_urls.keys():\n",
    "        file_path = os.path.join(DATA_DIR, f'{data_table_name}.csv')\n",
    "        if os.path.isfile(file_path):\n",
    "            return pd.read_csv(file_path)\n",
    "        else:\n",
    "            print(f\"{data_table_name} hasn't been pulled. Call pull_raw_data_table() then retry.\")\n",
    "    else:\n",
    "        print(f'No known URL or file for the (alleged) data table with the name {data_table_name}.')    "
   ]
  },
  {
   "cell_type": "code",
   "execution_count": 50,
   "metadata": {},
   "outputs": [],
   "source": [
    "nypd_arrest_historic_df = load_data_table(data_table_name = 'nypd_arrest_historic')"
   ]
  },
  {
   "cell_type": "code",
   "execution_count": 51,
   "metadata": {},
   "outputs": [
    {
     "data": {
      "text/html": [
       "<div>\n",
       "<style scoped>\n",
       "    .dataframe tbody tr th:only-of-type {\n",
       "        vertical-align: middle;\n",
       "    }\n",
       "\n",
       "    .dataframe tbody tr th {\n",
       "        vertical-align: top;\n",
       "    }\n",
       "\n",
       "    .dataframe thead th {\n",
       "        text-align: right;\n",
       "    }\n",
       "</style>\n",
       "<table border=\"1\" class=\"dataframe\">\n",
       "  <thead>\n",
       "    <tr style=\"text-align: right;\">\n",
       "      <th></th>\n",
       "      <th>ARREST_KEY</th>\n",
       "      <th>ARREST_DATE</th>\n",
       "      <th>PD_CD</th>\n",
       "      <th>PD_DESC</th>\n",
       "      <th>KY_CD</th>\n",
       "      <th>OFNS_DESC</th>\n",
       "      <th>LAW_CODE</th>\n",
       "      <th>LAW_CAT_CD</th>\n",
       "      <th>ARREST_BORO</th>\n",
       "      <th>ARREST_PRECINCT</th>\n",
       "      <th>JURISDICTION_CODE</th>\n",
       "      <th>AGE_GROUP</th>\n",
       "      <th>PERP_SEX</th>\n",
       "      <th>PERP_RACE</th>\n",
       "      <th>X_COORD_CD</th>\n",
       "      <th>Y_COORD_CD</th>\n",
       "      <th>Latitude</th>\n",
       "      <th>Longitude</th>\n",
       "      <th>Lon_Lat</th>\n",
       "    </tr>\n",
       "  </thead>\n",
       "  <tbody>\n",
       "    <tr>\n",
       "      <th>0</th>\n",
       "      <td>144026181</td>\n",
       "      <td>06/26/2015</td>\n",
       "      <td>639.0</td>\n",
       "      <td>AGGRAVATED HARASSMENT 2</td>\n",
       "      <td>361.0</td>\n",
       "      <td>OFF. AGNST PUB ORD SENSBLTY &amp; RGHTS TO PRIV</td>\n",
       "      <td>PL 2403002</td>\n",
       "      <td>M</td>\n",
       "      <td>Q</td>\n",
       "      <td>102</td>\n",
       "      <td>0.0</td>\n",
       "      <td>45-64</td>\n",
       "      <td>M</td>\n",
       "      <td>WHITE HISPANIC</td>\n",
       "      <td>1031076.0</td>\n",
       "      <td>193779.0</td>\n",
       "      <td>40.698440</td>\n",
       "      <td>-73.831130</td>\n",
       "      <td>POINT (-73.83112953899997 40.69843969400005)</td>\n",
       "    </tr>\n",
       "    <tr>\n",
       "      <th>1</th>\n",
       "      <td>144507595</td>\n",
       "      <td>07/14/2015</td>\n",
       "      <td>969.0</td>\n",
       "      <td>TRAFFIC,UNCLASSIFIED INFRACTION</td>\n",
       "      <td>881.0</td>\n",
       "      <td>OTHER TRAFFIC INFRACTION</td>\n",
       "      <td>VTL051101A</td>\n",
       "      <td>M</td>\n",
       "      <td>M</td>\n",
       "      <td>10</td>\n",
       "      <td>3.0</td>\n",
       "      <td>25-44</td>\n",
       "      <td>M</td>\n",
       "      <td>WHITE HISPANIC</td>\n",
       "      <td>984791.0</td>\n",
       "      <td>209846.0</td>\n",
       "      <td>40.742664</td>\n",
       "      <td>-73.998049</td>\n",
       "      <td>POINT (-73.99804910799998 40.74266360800004)</td>\n",
       "    </tr>\n",
       "  </tbody>\n",
       "</table>\n",
       "</div>"
      ],
      "text/plain": [
       "   ARREST_KEY ARREST_DATE  PD_CD                          PD_DESC  KY_CD  \\\n",
       "0   144026181  06/26/2015  639.0          AGGRAVATED HARASSMENT 2  361.0   \n",
       "1   144507595  07/14/2015  969.0  TRAFFIC,UNCLASSIFIED INFRACTION  881.0   \n",
       "\n",
       "                                     OFNS_DESC    LAW_CODE LAW_CAT_CD  \\\n",
       "0  OFF. AGNST PUB ORD SENSBLTY & RGHTS TO PRIV  PL 2403002          M   \n",
       "1                     OTHER TRAFFIC INFRACTION  VTL051101A          M   \n",
       "\n",
       "  ARREST_BORO  ARREST_PRECINCT  JURISDICTION_CODE AGE_GROUP PERP_SEX  \\\n",
       "0           Q              102                0.0     45-64        M   \n",
       "1           M               10                3.0     25-44        M   \n",
       "\n",
       "        PERP_RACE  X_COORD_CD  Y_COORD_CD   Latitude  Longitude  \\\n",
       "0  WHITE HISPANIC   1031076.0    193779.0  40.698440 -73.831130   \n",
       "1  WHITE HISPANIC    984791.0    209846.0  40.742664 -73.998049   \n",
       "\n",
       "                                        Lon_Lat  \n",
       "0  POINT (-73.83112953899997 40.69843969400005)  \n",
       "1  POINT (-73.99804910799998 40.74266360800004)  "
      ]
     },
     "execution_count": 51,
     "metadata": {},
     "output_type": "execute_result"
    }
   ],
   "source": [
    "nypd_arrest_historic_df.head(2)"
   ]
  },
  {
   "cell_type": "code",
   "execution_count": null,
   "metadata": {},
   "outputs": [],
   "source": []
  },
  {
   "cell_type": "code",
   "execution_count": null,
   "metadata": {},
   "outputs": [],
   "source": []
  },
  {
   "cell_type": "code",
   "execution_count": null,
   "metadata": {},
   "outputs": [],
   "source": []
  },
  {
   "cell_type": "code",
   "execution_count": null,
   "metadata": {},
   "outputs": [],
   "source": []
  },
  {
   "cell_type": "code",
   "execution_count": null,
   "metadata": {},
   "outputs": [],
   "source": []
  },
  {
   "cell_type": "code",
   "execution_count": null,
   "metadata": {},
   "outputs": [],
   "source": []
  },
  {
   "cell_type": "code",
   "execution_count": null,
   "metadata": {},
   "outputs": [],
   "source": []
  },
  {
   "cell_type": "code",
   "execution_count": null,
   "metadata": {},
   "outputs": [],
   "source": []
  },
  {
   "cell_type": "code",
   "execution_count": null,
   "metadata": {},
   "outputs": [],
   "source": []
  },
  {
   "cell_type": "code",
   "execution_count": null,
   "metadata": {},
   "outputs": [],
   "source": []
  },
  {
   "cell_type": "code",
   "execution_count": null,
   "metadata": {},
   "outputs": [],
   "source": []
  },
  {
   "cell_type": "code",
   "execution_count": null,
   "metadata": {},
   "outputs": [],
   "source": []
  },
  {
   "cell_type": "code",
   "execution_count": null,
   "metadata": {},
   "outputs": [],
   "source": []
  },
  {
   "cell_type": "code",
   "execution_count": null,
   "metadata": {},
   "outputs": [],
   "source": []
  },
  {
   "cell_type": "code",
   "execution_count": null,
   "metadata": {},
   "outputs": [],
   "source": []
  }
 ],
 "metadata": {
  "kernelspec": {
   "display_name": "Python (geo_env)",
   "language": "python",
   "name": "geo_env"
  },
  "language_info": {
   "codemirror_mode": {
    "name": "ipython",
    "version": 3
   },
   "file_extension": ".py",
   "mimetype": "text/x-python",
   "name": "python",
   "nbconvert_exporter": "python",
   "pygments_lexer": "ipython3",
   "version": "3.8.3"
  }
 },
 "nbformat": 4,
 "nbformat_minor": 4
}
