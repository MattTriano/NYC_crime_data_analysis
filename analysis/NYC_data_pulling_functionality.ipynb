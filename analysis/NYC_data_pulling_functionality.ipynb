{
 "cells": [
  {
   "cell_type": "code",
   "execution_count": 1,
   "metadata": {},
   "outputs": [],
   "source": [
    "import os\n",
    "import pandas as pd\n",
    "import numpy as np\n",
    "import seaborn as sns\n",
    "import matplotlib.pyplot as plt\n",
    "from IPython.core.display import display, HTML\n",
    "%matplotlib inline"
   ]
  },
  {
   "cell_type": "code",
   "execution_count": 2,
   "metadata": {},
   "outputs": [
    {
     "data": {
      "text/html": [
       "<style>.container { width:100% !important; }</style>"
      ],
      "text/plain": [
       "<IPython.core.display.HTML object>"
      ]
     },
     "metadata": {},
     "output_type": "display_data"
    }
   ],
   "source": [
    "import re\n",
    "import yaml\n",
    "import geopandas as gpd\n",
    "import requests\n",
    "import shutil\n",
    "import pprint\n",
    "from urllib.request import urlretrieve\n",
    "from datetime import datetime\n",
    "from zipfile import ZipFile\n",
    "\n",
    "# Notebook Styling \n",
    "sns.set()\n",
    "pd.options.display.max_columns = None\n",
    "display(HTML(\"<style>.container { width:100% !important; }</style>\"))\n",
    "\n",
    "DATA_DIR = os.path.join('..', 'data_raw')"
   ]
  },
  {
   "cell_type": "code",
   "execution_count": 51,
   "metadata": {},
   "outputs": [],
   "source": [
    "from typing import (\n",
    "    Dict,\n",
    "#     List,\n",
    "#     Tuple,\n",
    "#     Set,\n",
    "#     Deque,\n",
    "#     NamedTuple,\n",
    "#     IO,\n",
    "#     Pattern,\n",
    "#     Match,\n",
    "#     Text,\n",
    "#     Optional,\n",
    "#     Sequence,\n",
    "#     Iterable,\n",
    "#     Mapping,\n",
    "#     MutableMapping,\n",
    "#     Any,\n",
    ")"
   ]
  },
  {
   "cell_type": "code",
   "execution_count": 3,
   "metadata": {},
   "outputs": [],
   "source": [
    "def ensure_dir_exists(DIR_PATH):\n",
    "    if not os.path.isdir(DIR_PATH):\n",
    "        os.makedirs(DIR_PATH)\n",
    "        \n",
    "def freq_label_selector(freq):\n",
    "    if freq.lower() == 'm':\n",
    "        return 'Month'\n",
    "    elif freq.lower() == 'q':\n",
    "        return 'Quarter'\n",
    "    else:\n",
    "        return 'Year'"
   ]
  },
  {
   "cell_type": "code",
   "execution_count": 4,
   "metadata": {},
   "outputs": [],
   "source": [
    "def get_nypd_data_table_urls():\n",
    "    YAML_DIR = os.path.join('..', 'yaml_files')\n",
    "    ensure_dir_exists(YAML_DIR)\n",
    "    yaml_path = os.path.join(YAML_DIR, 'nypd_data_urls.yaml')\n",
    "    \n",
    "    if not os.path.isfile(yaml_path):\n",
    "        print('Making first yaml data file')\n",
    "        # Initial data load\n",
    "        nyc_data_urls = {\n",
    "            'nypd_shooting_historic':'https://data.cityofnewyork.us/api/views/833y-fsy8/rows.csv?accessType=DOWNLOAD',\n",
    "            'nypd_shooting_ytd':'https://data.cityofnewyork.us/api/views/5ucz-vwe8/rows.csv?accessType=DOWNLOAD',\n",
    "            'nypd_arrest_historic':'https://data.cityofnewyork.us/api/views/8h9b-rp9u/rows.csv?accessType=DOWNLOAD',\n",
    "            'nypd_arrest_ytd':'https://data.cityofnewyork.us/api/views/uip8-fykc/rows.csv?accessType=DOWNLOAD',\n",
    "            'nypd_complaint_historic':'https://data.cityofnewyork.us/api/views/qgea-i56i/rows.csv?accessType=DOWNLOAD',\n",
    "            'nypd_complaint_ytd':'https://data.cityofnewyork.us/api/views/5uac-w243/rows.csv?accessType=DOWNLOAD',\n",
    "        }\n",
    "        yaml.dump(data=nyc_data_urls, stream=open(yaml_path, 'w'))\n",
    "    nyc_data_urls = yaml.load(stream=open(os.path.join(yaml_path), 'r'), Loader=yaml.FullLoader)\n",
    "    return nyc_data_urls"
   ]
  },
  {
   "cell_type": "code",
   "execution_count": 5,
   "metadata": {},
   "outputs": [],
   "source": [
    "nyc_data_urls = get_nypd_data_table_urls()"
   ]
  },
  {
   "cell_type": "code",
   "execution_count": 6,
   "metadata": {},
   "outputs": [
    {
     "data": {
      "text/plain": [
       "{'nypd_arrest_historic': 'https://data.cityofnewyork.us/api/views/8h9b-rp9u/rows.csv?accessType=DOWNLOAD',\n",
       " 'nypd_arrest_ytd': 'https://data.cityofnewyork.us/api/views/uip8-fykc/rows.csv?accessType=DOWNLOAD',\n",
       " 'nypd_complaint_historic': 'https://data.cityofnewyork.us/api/views/qgea-i56i/rows.csv?accessType=DOWNLOAD',\n",
       " 'nypd_complaint_ytd': 'https://data.cityofnewyork.us/api/views/5uac-w243/rows.csv?accessType=DOWNLOAD',\n",
       " 'nypd_shooting_historic': 'https://data.cityofnewyork.us/api/views/833y-fsy8/rows.csv?accessType=DOWNLOAD',\n",
       " 'nypd_shooting_ytd': 'https://data.cityofnewyork.us/api/views/5ucz-vwe8/rows.csv?accessType=DOWNLOAD'}"
      ]
     },
     "execution_count": 6,
     "metadata": {},
     "output_type": "execute_result"
    }
   ],
   "source": [
    "nyc_data_urls"
   ]
  },
  {
   "cell_type": "code",
   "execution_count": 7,
   "metadata": {},
   "outputs": [],
   "source": [
    "def get_age_of_data_pull(data_table_name: str, DATA_DIR: str = DATA_DIR, VERBOSE: bool = False) -> float:\n",
    "    \"\"\" Checks to the raw_data file of the most recent data pull. If it exists, it returns\n",
    "    the age of the file in days. If it doesn't exist, it returns 36500 days. \"\"\"\n",
    "    dir_path = os.path.join(DATA_DIR)\n",
    "    file_path = os.path.join(dir_path, f\"{data_table_name}.csv\")\n",
    "    ensure_dir_exists(dir_path)\n",
    "    if (os.path.isfile(file_path)):\n",
    "        file_datetime = datetime.fromtimestamp(os.path.getmtime(file_path))\n",
    "        file_age = ((datetime.now() - file_datetime).seconds) / (24 * 60 * 60)\n",
    "    else:\n",
    "        file_age = 100 * 365\n",
    "    if VERBOSE: \n",
    "        print(f\"{file_age} (days)\")\n",
    "        print(f\"{file_age / 365} (years)\")\n",
    "    return file_age"
   ]
  },
  {
   "cell_type": "code",
   "execution_count": 8,
   "metadata": {},
   "outputs": [
    {
     "data": {
      "text/plain": [
       "0.9603472222222222"
      ]
     },
     "execution_count": 8,
     "metadata": {},
     "output_type": "execute_result"
    }
   ],
   "source": [
    "get_age_of_data_pull(data_table_name = 'nypd_shooting_historic')"
   ]
  },
  {
   "cell_type": "code",
   "execution_count": 16,
   "metadata": {},
   "outputs": [],
   "source": [
    "def pull_raw_data_table(data_table_name: str, max_days_before_update: int = 7, \n",
    "                        DATA_DIR: str = DATA_DIR) -> None:\n",
    "    data_urls = get_nypd_data_table_urls()\n",
    "    if data_table_name in data_urls.keys():\n",
    "        file_path = os.path.join(DATA_DIR, f'{data_table_name}.csv')\n",
    "        file_age = get_age_of_data_pull(data_table_name = data_table_name)\n",
    "        if file_age > max_days_before_update:\n",
    "            urlretrieve(data_urls[data_table_name], file_path)\n",
    "            print(f\"{data_table_name} data successfully downloaded\")\n",
    "        else:\n",
    "            print(f\"{data_table_name} was pulled {round(file_age, 2)} days ago.\")\n",
    "            print(f\"Reduce the max_days_before_update parameter (currently {max_days_before_update} days) to pull now.\")\n",
    "    else:\n",
    "        print(f'No known URL for the (alleged) data table with the name {data_table_name}.')"
   ]
  },
  {
   "cell_type": "code",
   "execution_count": 17,
   "metadata": {},
   "outputs": [
    {
     "name": "stdout",
     "output_type": "stream",
     "text": [
      "nypd_shooting_historic was pulled 0.96 days ago.\n",
      "Reduce the max_days_before_update parameter (currently 7 days) to pull now.\n"
     ]
    }
   ],
   "source": [
    "pull_raw_data_table(data_table_name = 'nypd_shooting_historic')"
   ]
  },
  {
   "cell_type": "code",
   "execution_count": 18,
   "metadata": {},
   "outputs": [
    {
     "name": "stdout",
     "output_type": "stream",
     "text": [
      "nypd_shooting_ytd was pulled 0.96 days ago.\n",
      "Reduce the max_days_before_update parameter (currently 7 days) to pull now.\n"
     ]
    }
   ],
   "source": [
    "pull_raw_data_table(data_table_name = 'nypd_shooting_ytd')"
   ]
  },
  {
   "cell_type": "code",
   "execution_count": 19,
   "metadata": {},
   "outputs": [
    {
     "name": "stdout",
     "output_type": "stream",
     "text": [
      "nypd_arrest_historic was pulled 0.96 days ago.\n",
      "Reduce the max_days_before_update parameter (currently 7 days) to pull now.\n"
     ]
    }
   ],
   "source": [
    "pull_raw_data_table(data_table_name = 'nypd_arrest_historic')"
   ]
  },
  {
   "cell_type": "code",
   "execution_count": 20,
   "metadata": {},
   "outputs": [
    {
     "name": "stdout",
     "output_type": "stream",
     "text": [
      "nypd_arrest_ytd was pulled 0.96 days ago.\n",
      "Reduce the max_days_before_update parameter (currently 7 days) to pull now.\n"
     ]
    }
   ],
   "source": [
    "pull_raw_data_table(data_table_name = 'nypd_arrest_ytd')"
   ]
  },
  {
   "cell_type": "code",
   "execution_count": 21,
   "metadata": {},
   "outputs": [
    {
     "name": "stdout",
     "output_type": "stream",
     "text": [
      "nypd_complaint_historic was pulled 0.94 days ago.\n",
      "Reduce the max_days_before_update parameter (currently 7 days) to pull now.\n"
     ]
    }
   ],
   "source": [
    "pull_raw_data_table(data_table_name = 'nypd_complaint_historic')"
   ]
  },
  {
   "cell_type": "code",
   "execution_count": 22,
   "metadata": {},
   "outputs": [
    {
     "name": "stdout",
     "output_type": "stream",
     "text": [
      "nypd_complaint_ytd data successfully downloaded\n"
     ]
    }
   ],
   "source": [
    "pull_raw_data_table(data_table_name = 'nypd_complaint_ytd')"
   ]
  },
  {
   "cell_type": "code",
   "execution_count": null,
   "metadata": {},
   "outputs": [],
   "source": [
    "arrest_dtypes = {\n",
    "    'ARREST_KEY':str, \n",
    "    'PD_CD':str, \n",
    "    'PD_DESC':str, \n",
    "    'KY_CD':str, \n",
    "    'ARREST_PRECINCT':str,\n",
    "    'JURISDICTION_CODE':str\n",
    "}"
   ]
  },
  {
   "cell_type": "code",
   "execution_count": 70,
   "metadata": {},
   "outputs": [],
   "source": [
    "def get_nypd_data_table_dtypes(data_table_name: str) -> Dict:\n",
    "    YAML_DIR = os.path.join('..', 'yaml_files')\n",
    "    ensure_dir_exists(YAML_DIR)\n",
    "    yaml_path = os.path.join(YAML_DIR, 'nypd_data_table_dtypes.yaml')\n",
    "    \n",
    "    if not os.path.isfile(yaml_path):\n",
    "        print('Making first yaml data file')\n",
    "        # Initial data load\n",
    "        nyc_data_dtypes = {\n",
    "            'arrest_dtypes':{\n",
    "                'ARREST_KEY':str, \n",
    "                'PD_CD':str, \n",
    "                'PD_DESC':str, \n",
    "                'KY_CD':str, \n",
    "                'ARREST_PRECINCT':str,\n",
    "                'JURISDICTION_CODE':str\n",
    "            }\n",
    "        }        \n",
    "        yaml.dump(data=nyc_data_dtypes, stream=open(yaml_path, 'w+'))\n",
    "    nyc_data_dtypes = yaml.load(stream=open(os.path.join(yaml_path), 'r'), Loader=yaml.FullLoader)\n",
    "    dtype_map = get_nypd_data_table_dtype_map(data_table_name=data_table_name)\n",
    "    return nyc_data_dtypes[dtype_map[data_table_name]]"
   ]
  },
  {
   "cell_type": "code",
   "execution_count": 71,
   "metadata": {},
   "outputs": [],
   "source": [
    "def get_nypd_data_table_dtype_map(data_table_name: str) -> Dict:\n",
    "    YAML_DIR = os.path.join('..', 'yaml_files')\n",
    "    ensure_dir_exists(YAML_DIR)\n",
    "    yaml_path = os.path.join(YAML_DIR, 'nypd_data_table_dtype_map.yaml')\n",
    "    \n",
    "    if not os.path.isfile(yaml_path):\n",
    "        print('Making first yaml data file')\n",
    "        # Initial data load\n",
    "        nyc_table_dtype_map = {\n",
    "            'nypd_arrest_historic':'arrest_dtypes',\n",
    "            'nypd_arrest_ytd':'arrest_dtypes',\n",
    "            'nypd_complaint_historic':'complaint_dtypes',\n",
    "            'nypd_complaint_ytd':'complaint_dtypes',\n",
    "            'nypd_shooting_historic':'shooting_dtypes',\n",
    "            'nypd_shooting_ytd':'shooting_dtypes',                \n",
    "        }\n",
    "        yaml.dump(data=nyc_table_dtype_map, stream=open(yaml_path, 'w+'))\n",
    "    nyc_table_dtype_map = yaml.load(stream=open(os.path.join(yaml_path), 'r'), Loader=yaml.FullLoader)\n",
    "    return nyc_table_dtype_map"
   ]
  },
  {
   "cell_type": "code",
   "execution_count": 72,
   "metadata": {},
   "outputs": [],
   "source": [
    "def load_data_table(data_table_name: str, DATA_DIR: str = DATA_DIR) -> pd.DataFrame:\n",
    "    data_urls = get_nypd_data_table_urls()\n",
    "    if data_table_name in data_urls.keys():        \n",
    "        file_path = os.path.join(DATA_DIR, f'{data_table_name}.csv')\n",
    "        if os.path.isfile(file_path):\n",
    "            table_dtypes = get_nypd_data_table_dtypes(data_table_name)\n",
    "            return pd.read_csv(file_path, dtype=table_dtypes)\n",
    "        else:\n",
    "            print(f\"{data_table_name} hasn't been pulled. Call pull_raw_data_table() then retry.\")\n",
    "    else:\n",
    "        print(f'No known URL or file for the (alleged) data table with the name {data_table_name}.')    "
   ]
  },
  {
   "cell_type": "code",
   "execution_count": 6,
   "metadata": {},
   "outputs": [
    {
     "data": {
      "text/plain": [
       "{'nypd_arrest_historic': 'https://data.cityofnewyork.us/api/views/8h9b-rp9u/rows.csv?accessType=DOWNLOAD',\n",
       " 'nypd_arrest_ytd': 'https://data.cityofnewyork.us/api/views/uip8-fykc/rows.csv?accessType=DOWNLOAD',\n",
       " 'nypd_complaint_historic': 'https://data.cityofnewyork.us/api/views/qgea-i56i/rows.csv?accessType=DOWNLOAD',\n",
       " 'nypd_complaint_ytd': 'https://data.cityofnewyork.us/api/views/5uac-w243/rows.csv?accessType=DOWNLOAD',\n",
       " 'nypd_shooting_historic': 'https://data.cityofnewyork.us/api/views/833y-fsy8/rows.csv?accessType=DOWNLOAD',\n",
       " 'nypd_shooting_ytd': 'https://data.cityofnewyork.us/api/views/5ucz-vwe8/rows.csv?accessType=DOWNLOAD'}"
      ]
     },
     "execution_count": 6,
     "metadata": {},
     "output_type": "execute_result"
    }
   ],
   "source": [
    "nyc_data_urls"
   ]
  },
  {
   "cell_type": "code",
   "execution_count": 64,
   "metadata": {},
   "outputs": [
    {
     "name": "stdout",
     "output_type": "stream",
     "text": [
      "{'nypd_arrest_historic': 'arrest_dtypes', 'nypd_arrest_ytd': 'arrest_dtypes', 'nypd_complaint_historic': 'complaint_dtypes', 'nypd_complaint_ytd': 'complaint_dtypes', 'nypd_shooting_historic': 'shooting_dtypes', 'nypd_shooting_ytd': 'shooting_dtypes'}\n"
     ]
    },
    {
     "data": {
      "text/plain": [
       "{'ARREST_KEY': str,\n",
       " 'ARREST_PRECINCT': str,\n",
       " 'JURISDICTION_CODE': str,\n",
       " 'KY_CD': str,\n",
       " 'PD_CD': str,\n",
       " 'PD_DESC': str}"
      ]
     },
     "execution_count": 64,
     "metadata": {},
     "output_type": "execute_result"
    }
   ],
   "source": [
    "nyc_data_dtypes = get_nypd_data_table_dtypes(data_table_name='nypd_arrest_historic')\n",
    "nyc_data_dtypes"
   ]
  },
  {
   "cell_type": "code",
   "execution_count": 59,
   "metadata": {},
   "outputs": [
    {
     "name": "stdout",
     "output_type": "stream",
     "text": [
      "Making first yaml data file\n"
     ]
    },
    {
     "data": {
      "text/plain": [
       "{'nypd_arrest_historic': 'arrest_dtypes',\n",
       " 'nypd_arrest_ytd': 'arrest_dtypes',\n",
       " 'nypd_complaint_historic': 'complaint_dtypes',\n",
       " 'nypd_complaint_ytd': 'complaint_dtypes',\n",
       " 'nypd_shooting_historic': 'shooting_dtypes',\n",
       " 'nypd_shooting_ytd': 'shooting_dtypes'}"
      ]
     },
     "execution_count": 59,
     "metadata": {},
     "output_type": "execute_result"
    }
   ],
   "source": [
    "get_nypd_data_table_dtype_map(data_table_name = 'nypd_arrest_historic')"
   ]
  },
  {
   "cell_type": "code",
   "execution_count": 84,
   "metadata": {},
   "outputs": [
    {
     "data": {
      "text/plain": [
       "'../data_raw'"
      ]
     },
     "execution_count": 84,
     "metadata": {},
     "output_type": "execute_result"
    }
   ],
   "source": [
    "DATA_DIR"
   ]
  },
  {
   "cell_type": "code",
   "execution_count": 86,
   "metadata": {},
   "outputs": [],
   "source": [
    "def preprocess_arrest_data(DATA_DIR: str = DATA_DIR) -> None:\n",
    "    file_out_path = os.path.join(DATA_DIR, '..', 'data_preprocessed', 'nypd_arrest.feather')\n",
    "    \n",
    "    nypd_arrest_historic_df = load_data_table(data_table_name = 'nypd_arrest_historic')\n",
    "    nypd_arrest_ytd_df = load_data_table(data_table_name = 'nypd_arrest_ytd')\n",
    "    \n",
    "    nypd_arrest_ytd_df.columns = nypd_arrest_historic_df.columns\n",
    "    nypd_arrest_df = pd.concat([nypd_arrest_historic_df, nypd_arrest_ytd_df])\n",
    "    nypd_arrest_df.reset_index(drop=True, inplace=True)\n",
    "    \n",
    "    nypd_arrest_df['ARREST_DATE'] = pd.to_datetime(nypd_arrest_df['ARREST_DATE'], format='%m/%d/%Y')\n",
    "    nypd_arrest_df.to_feather(file_out_path)"
   ]
  },
  {
   "cell_type": "code",
   "execution_count": 89,
   "metadata": {},
   "outputs": [],
   "source": [
    "def load_preprocessed_arrest_data(DATA_DIR: str = DATA_DIR) -> pd.DataFrame:\n",
    "    file_path = os.path.join(DATA_DIR, '..', 'data_preprocessed', 'nypd_arrest.feather')\n",
    "    if os.path.isfile(file_path):\n",
    "        return pd.read_feather(file_path)\n",
    "    else:\n",
    "        print('No preprocessed arrest file to load')        "
   ]
  },
  {
   "cell_type": "code",
   "execution_count": 90,
   "metadata": {},
   "outputs": [],
   "source": [
    "nypd_arrest_df = load_preprocessed_arrest_data()"
   ]
  },
  {
   "cell_type": "code",
   "execution_count": 91,
   "metadata": {},
   "outputs": [
    {
     "data": {
      "text/html": [
       "<div>\n",
       "<style scoped>\n",
       "    .dataframe tbody tr th:only-of-type {\n",
       "        vertical-align: middle;\n",
       "    }\n",
       "\n",
       "    .dataframe tbody tr th {\n",
       "        vertical-align: top;\n",
       "    }\n",
       "\n",
       "    .dataframe thead th {\n",
       "        text-align: right;\n",
       "    }\n",
       "</style>\n",
       "<table border=\"1\" class=\"dataframe\">\n",
       "  <thead>\n",
       "    <tr style=\"text-align: right;\">\n",
       "      <th></th>\n",
       "      <th>ARREST_KEY</th>\n",
       "      <th>ARREST_DATE</th>\n",
       "      <th>PD_CD</th>\n",
       "      <th>PD_DESC</th>\n",
       "      <th>KY_CD</th>\n",
       "      <th>OFNS_DESC</th>\n",
       "      <th>LAW_CODE</th>\n",
       "      <th>LAW_CAT_CD</th>\n",
       "      <th>ARREST_BORO</th>\n",
       "      <th>ARREST_PRECINCT</th>\n",
       "      <th>JURISDICTION_CODE</th>\n",
       "      <th>AGE_GROUP</th>\n",
       "      <th>PERP_SEX</th>\n",
       "      <th>PERP_RACE</th>\n",
       "      <th>X_COORD_CD</th>\n",
       "      <th>Y_COORD_CD</th>\n",
       "      <th>Latitude</th>\n",
       "      <th>Longitude</th>\n",
       "      <th>Lon_Lat</th>\n",
       "    </tr>\n",
       "  </thead>\n",
       "  <tbody>\n",
       "    <tr>\n",
       "      <th>0</th>\n",
       "      <td>144026181</td>\n",
       "      <td>2015-06-26</td>\n",
       "      <td>639</td>\n",
       "      <td>AGGRAVATED HARASSMENT 2</td>\n",
       "      <td>361</td>\n",
       "      <td>OFF. AGNST PUB ORD SENSBLTY &amp; RGHTS TO PRIV</td>\n",
       "      <td>PL 2403002</td>\n",
       "      <td>M</td>\n",
       "      <td>Q</td>\n",
       "      <td>102</td>\n",
       "      <td>0</td>\n",
       "      <td>45-64</td>\n",
       "      <td>M</td>\n",
       "      <td>WHITE HISPANIC</td>\n",
       "      <td>1031076.0</td>\n",
       "      <td>193779.0</td>\n",
       "      <td>40.698440</td>\n",
       "      <td>-73.831130</td>\n",
       "      <td>POINT (-73.83112953899997 40.69843969400005)</td>\n",
       "    </tr>\n",
       "    <tr>\n",
       "      <th>1</th>\n",
       "      <td>144507595</td>\n",
       "      <td>2015-07-14</td>\n",
       "      <td>969</td>\n",
       "      <td>TRAFFIC,UNCLASSIFIED INFRACTION</td>\n",
       "      <td>881</td>\n",
       "      <td>OTHER TRAFFIC INFRACTION</td>\n",
       "      <td>VTL051101A</td>\n",
       "      <td>M</td>\n",
       "      <td>M</td>\n",
       "      <td>10</td>\n",
       "      <td>3</td>\n",
       "      <td>25-44</td>\n",
       "      <td>M</td>\n",
       "      <td>WHITE HISPANIC</td>\n",
       "      <td>984791.0</td>\n",
       "      <td>209846.0</td>\n",
       "      <td>40.742664</td>\n",
       "      <td>-73.998049</td>\n",
       "      <td>POINT (-73.99804910799998 40.74266360800004)</td>\n",
       "    </tr>\n",
       "  </tbody>\n",
       "</table>\n",
       "</div>"
      ],
      "text/plain": [
       "  ARREST_KEY ARREST_DATE PD_CD                          PD_DESC KY_CD  \\\n",
       "0  144026181  2015-06-26   639          AGGRAVATED HARASSMENT 2   361   \n",
       "1  144507595  2015-07-14   969  TRAFFIC,UNCLASSIFIED INFRACTION   881   \n",
       "\n",
       "                                     OFNS_DESC    LAW_CODE LAW_CAT_CD  \\\n",
       "0  OFF. AGNST PUB ORD SENSBLTY & RGHTS TO PRIV  PL 2403002          M   \n",
       "1                     OTHER TRAFFIC INFRACTION  VTL051101A          M   \n",
       "\n",
       "  ARREST_BORO ARREST_PRECINCT JURISDICTION_CODE AGE_GROUP PERP_SEX  \\\n",
       "0           Q             102                 0     45-64        M   \n",
       "1           M              10                 3     25-44        M   \n",
       "\n",
       "        PERP_RACE  X_COORD_CD  Y_COORD_CD   Latitude  Longitude  \\\n",
       "0  WHITE HISPANIC   1031076.0    193779.0  40.698440 -73.831130   \n",
       "1  WHITE HISPANIC    984791.0    209846.0  40.742664 -73.998049   \n",
       "\n",
       "                                        Lon_Lat  \n",
       "0  POINT (-73.83112953899997 40.69843969400005)  \n",
       "1  POINT (-73.99804910799998 40.74266360800004)  "
      ]
     },
     "execution_count": 91,
     "metadata": {},
     "output_type": "execute_result"
    }
   ],
   "source": [
    "nypd_arrest_df.head(2)"
   ]
  },
  {
   "cell_type": "code",
   "execution_count": 93,
   "metadata": {},
   "outputs": [
    {
     "ename": "KeyError",
     "evalue": "'shooting_dtypes'",
     "output_type": "error",
     "traceback": [
      "\u001b[0;31m---------------------------------------------------------------------------\u001b[0m",
      "\u001b[0;31mKeyError\u001b[0m                                  Traceback (most recent call last)",
      "\u001b[0;32m<ipython-input-93-ad281522526c>\u001b[0m in \u001b[0;36m<module>\u001b[0;34m\u001b[0m\n\u001b[0;32m----> 1\u001b[0;31m \u001b[0mnypd_historic_df\u001b[0m \u001b[0;34m=\u001b[0m \u001b[0mload_data_table\u001b[0m\u001b[0;34m(\u001b[0m\u001b[0mdata_table_name\u001b[0m \u001b[0;34m=\u001b[0m \u001b[0;34m'nypd_shooting_historic'\u001b[0m\u001b[0;34m)\u001b[0m\u001b[0;34m\u001b[0m\u001b[0;34m\u001b[0m\u001b[0m\n\u001b[0m\u001b[1;32m      2\u001b[0m \u001b[0mnypd_ytd_df\u001b[0m \u001b[0;34m=\u001b[0m \u001b[0mload_data_table\u001b[0m\u001b[0;34m(\u001b[0m\u001b[0mdata_table_name\u001b[0m \u001b[0;34m=\u001b[0m \u001b[0;34m'nypd_shooting_ytd'\u001b[0m\u001b[0;34m)\u001b[0m\u001b[0;34m\u001b[0m\u001b[0;34m\u001b[0m\u001b[0m\n",
      "\u001b[0;32m<ipython-input-72-e9cfe6650599>\u001b[0m in \u001b[0;36mload_data_table\u001b[0;34m(data_table_name, DATA_DIR)\u001b[0m\n\u001b[1;32m      4\u001b[0m         \u001b[0mfile_path\u001b[0m \u001b[0;34m=\u001b[0m \u001b[0mos\u001b[0m\u001b[0;34m.\u001b[0m\u001b[0mpath\u001b[0m\u001b[0;34m.\u001b[0m\u001b[0mjoin\u001b[0m\u001b[0;34m(\u001b[0m\u001b[0mDATA_DIR\u001b[0m\u001b[0;34m,\u001b[0m \u001b[0;34mf'{data_table_name}.csv'\u001b[0m\u001b[0;34m)\u001b[0m\u001b[0;34m\u001b[0m\u001b[0;34m\u001b[0m\u001b[0m\n\u001b[1;32m      5\u001b[0m         \u001b[0;32mif\u001b[0m \u001b[0mos\u001b[0m\u001b[0;34m.\u001b[0m\u001b[0mpath\u001b[0m\u001b[0;34m.\u001b[0m\u001b[0misfile\u001b[0m\u001b[0;34m(\u001b[0m\u001b[0mfile_path\u001b[0m\u001b[0;34m)\u001b[0m\u001b[0;34m:\u001b[0m\u001b[0;34m\u001b[0m\u001b[0;34m\u001b[0m\u001b[0m\n\u001b[0;32m----> 6\u001b[0;31m             \u001b[0mtable_dtypes\u001b[0m \u001b[0;34m=\u001b[0m \u001b[0mget_nypd_data_table_dtypes\u001b[0m\u001b[0;34m(\u001b[0m\u001b[0mdata_table_name\u001b[0m\u001b[0;34m)\u001b[0m\u001b[0;34m\u001b[0m\u001b[0;34m\u001b[0m\u001b[0m\n\u001b[0m\u001b[1;32m      7\u001b[0m             \u001b[0;32mreturn\u001b[0m \u001b[0mpd\u001b[0m\u001b[0;34m.\u001b[0m\u001b[0mread_csv\u001b[0m\u001b[0;34m(\u001b[0m\u001b[0mfile_path\u001b[0m\u001b[0;34m,\u001b[0m \u001b[0mdtype\u001b[0m\u001b[0;34m=\u001b[0m\u001b[0mtable_dtypes\u001b[0m\u001b[0;34m)\u001b[0m\u001b[0;34m\u001b[0m\u001b[0;34m\u001b[0m\u001b[0m\n\u001b[1;32m      8\u001b[0m         \u001b[0;32melse\u001b[0m\u001b[0;34m:\u001b[0m\u001b[0;34m\u001b[0m\u001b[0;34m\u001b[0m\u001b[0m\n",
      "\u001b[0;32m<ipython-input-70-e38e9192f582>\u001b[0m in \u001b[0;36mget_nypd_data_table_dtypes\u001b[0;34m(data_table_name)\u001b[0m\n\u001b[1;32m     20\u001b[0m     \u001b[0mnyc_data_dtypes\u001b[0m \u001b[0;34m=\u001b[0m \u001b[0myaml\u001b[0m\u001b[0;34m.\u001b[0m\u001b[0mload\u001b[0m\u001b[0;34m(\u001b[0m\u001b[0mstream\u001b[0m\u001b[0;34m=\u001b[0m\u001b[0mopen\u001b[0m\u001b[0;34m(\u001b[0m\u001b[0mos\u001b[0m\u001b[0;34m.\u001b[0m\u001b[0mpath\u001b[0m\u001b[0;34m.\u001b[0m\u001b[0mjoin\u001b[0m\u001b[0;34m(\u001b[0m\u001b[0myaml_path\u001b[0m\u001b[0;34m)\u001b[0m\u001b[0;34m,\u001b[0m \u001b[0;34m'r'\u001b[0m\u001b[0;34m)\u001b[0m\u001b[0;34m,\u001b[0m \u001b[0mLoader\u001b[0m\u001b[0;34m=\u001b[0m\u001b[0myaml\u001b[0m\u001b[0;34m.\u001b[0m\u001b[0mFullLoader\u001b[0m\u001b[0;34m)\u001b[0m\u001b[0;34m\u001b[0m\u001b[0;34m\u001b[0m\u001b[0m\n\u001b[1;32m     21\u001b[0m     \u001b[0mdtype_map\u001b[0m \u001b[0;34m=\u001b[0m \u001b[0mget_nypd_data_table_dtype_map\u001b[0m\u001b[0;34m(\u001b[0m\u001b[0mdata_table_name\u001b[0m\u001b[0;34m=\u001b[0m\u001b[0mdata_table_name\u001b[0m\u001b[0;34m)\u001b[0m\u001b[0;34m\u001b[0m\u001b[0;34m\u001b[0m\u001b[0m\n\u001b[0;32m---> 22\u001b[0;31m     \u001b[0;32mreturn\u001b[0m \u001b[0mnyc_data_dtypes\u001b[0m\u001b[0;34m[\u001b[0m\u001b[0mdtype_map\u001b[0m\u001b[0;34m[\u001b[0m\u001b[0mdata_table_name\u001b[0m\u001b[0;34m]\u001b[0m\u001b[0;34m]\u001b[0m\u001b[0;34m\u001b[0m\u001b[0;34m\u001b[0m\u001b[0m\n\u001b[0m",
      "\u001b[0;31mKeyError\u001b[0m: 'shooting_dtypes'"
     ]
    }
   ],
   "source": [
    "nypd_historic_df = load_data_table(data_table_name = 'nypd_shooting_historic')\n",
    "nypd_ytd_df = load_data_table(data_table_name = 'nypd_shooting_ytd')"
   ]
  },
  {
   "cell_type": "code",
   "execution_count": 95,
   "metadata": {},
   "outputs": [
    {
     "name": "stderr",
     "output_type": "stream",
     "text": [
      "/home/matt/.local/lib/python3.8/site-packages/IPython/core/interactiveshell.py:3062: DtypeWarning: Columns (18,20) have mixed types.Specify dtype option on import or set low_memory=False.\n",
      "  has_raised = await self.run_ast_nodes(code_ast.body, cell_name,\n",
      "/home/matt/.local/lib/python3.8/site-packages/IPython/core/interactiveshell.py:3062: DtypeWarning: Columns (8,16,22) have mixed types.Specify dtype option on import or set low_memory=False.\n",
      "  has_raised = await self.run_ast_nodes(code_ast.body, cell_name,\n"
     ]
    }
   ],
   "source": [
    "nypd_historic_df = pd.read_csv(os.path.join(DATA_DIR, 'nypd_complaint_historic.csv'))\n",
    "nypd_ytd_df = pd.read_csv(os.path.join(DATA_DIR, 'nypd_complaint_ytd.csv'))"
   ]
  },
  {
   "cell_type": "code",
   "execution_count": 96,
   "metadata": {},
   "outputs": [
    {
     "data": {
      "text/html": [
       "<div>\n",
       "<style scoped>\n",
       "    .dataframe tbody tr th:only-of-type {\n",
       "        vertical-align: middle;\n",
       "    }\n",
       "\n",
       "    .dataframe tbody tr th {\n",
       "        vertical-align: top;\n",
       "    }\n",
       "\n",
       "    .dataframe thead th {\n",
       "        text-align: right;\n",
       "    }\n",
       "</style>\n",
       "<table border=\"1\" class=\"dataframe\">\n",
       "  <thead>\n",
       "    <tr style=\"text-align: right;\">\n",
       "      <th></th>\n",
       "      <th>CMPLNT_NUM</th>\n",
       "      <th>CMPLNT_FR_DT</th>\n",
       "      <th>CMPLNT_FR_TM</th>\n",
       "      <th>CMPLNT_TO_DT</th>\n",
       "      <th>CMPLNT_TO_TM</th>\n",
       "      <th>ADDR_PCT_CD</th>\n",
       "      <th>RPT_DT</th>\n",
       "      <th>KY_CD</th>\n",
       "      <th>OFNS_DESC</th>\n",
       "      <th>PD_CD</th>\n",
       "      <th>PD_DESC</th>\n",
       "      <th>CRM_ATPT_CPTD_CD</th>\n",
       "      <th>LAW_CAT_CD</th>\n",
       "      <th>BORO_NM</th>\n",
       "      <th>LOC_OF_OCCUR_DESC</th>\n",
       "      <th>PREM_TYP_DESC</th>\n",
       "      <th>JURIS_DESC</th>\n",
       "      <th>JURISDICTION_CODE</th>\n",
       "      <th>PARKS_NM</th>\n",
       "      <th>HADEVELOPT</th>\n",
       "      <th>HOUSING_PSA</th>\n",
       "      <th>X_COORD_CD</th>\n",
       "      <th>Y_COORD_CD</th>\n",
       "      <th>SUSP_AGE_GROUP</th>\n",
       "      <th>SUSP_RACE</th>\n",
       "      <th>SUSP_SEX</th>\n",
       "      <th>TRANSIT_DISTRICT</th>\n",
       "      <th>Latitude</th>\n",
       "      <th>Longitude</th>\n",
       "      <th>Lat_Lon</th>\n",
       "      <th>PATROL_BORO</th>\n",
       "      <th>STATION_NAME</th>\n",
       "      <th>VIC_AGE_GROUP</th>\n",
       "      <th>VIC_RACE</th>\n",
       "      <th>VIC_SEX</th>\n",
       "    </tr>\n",
       "  </thead>\n",
       "  <tbody>\n",
       "    <tr>\n",
       "      <th>0</th>\n",
       "      <td>325341655</td>\n",
       "      <td>02/11/2015</td>\n",
       "      <td>15:00:00</td>\n",
       "      <td>NaN</td>\n",
       "      <td>NaN</td>\n",
       "      <td>73.0</td>\n",
       "      <td>02/11/2015</td>\n",
       "      <td>359</td>\n",
       "      <td>OFFENSES AGAINST PUBLIC ADMINI</td>\n",
       "      <td>749.0</td>\n",
       "      <td>VIOLATION OF ORDER OF PROTECTI</td>\n",
       "      <td>COMPLETED</td>\n",
       "      <td>MISDEMEANOR</td>\n",
       "      <td>BROOKLYN</td>\n",
       "      <td>INSIDE</td>\n",
       "      <td>RESIDENCE - PUBLIC HOUSING</td>\n",
       "      <td>N.Y. HOUSING POLICE</td>\n",
       "      <td>2.0</td>\n",
       "      <td>NaN</td>\n",
       "      <td>TILDEN</td>\n",
       "      <td>405</td>\n",
       "      <td>1009656.0</td>\n",
       "      <td>181287.0</td>\n",
       "      <td>25-44</td>\n",
       "      <td>BLACK</td>\n",
       "      <td>M</td>\n",
       "      <td>NaN</td>\n",
       "      <td>40.664239</td>\n",
       "      <td>-73.908425</td>\n",
       "      <td>(40.664239422, -73.908425011)</td>\n",
       "      <td>PATROL BORO BKLYN NORTH</td>\n",
       "      <td>NaN</td>\n",
       "      <td>&lt;18</td>\n",
       "      <td>BLACK</td>\n",
       "      <td>M</td>\n",
       "    </tr>\n",
       "    <tr>\n",
       "      <th>1</th>\n",
       "      <td>393816841</td>\n",
       "      <td>03/17/2012</td>\n",
       "      <td>10:30:00</td>\n",
       "      <td>03/17/2012</td>\n",
       "      <td>11:00:00</td>\n",
       "      <td>69.0</td>\n",
       "      <td>03/17/2012</td>\n",
       "      <td>344</td>\n",
       "      <td>ASSAULT 3 &amp; RELATED OFFENSES</td>\n",
       "      <td>114.0</td>\n",
       "      <td>OBSTR BREATH/CIRCUL</td>\n",
       "      <td>COMPLETED</td>\n",
       "      <td>MISDEMEANOR</td>\n",
       "      <td>BROOKLYN</td>\n",
       "      <td>INSIDE</td>\n",
       "      <td>RESIDENCE-HOUSE</td>\n",
       "      <td>N.Y. POLICE DEPT</td>\n",
       "      <td>0.0</td>\n",
       "      <td>NaN</td>\n",
       "      <td>NaN</td>\n",
       "      <td>NaN</td>\n",
       "      <td>1014035.0</td>\n",
       "      <td>174133.0</td>\n",
       "      <td>NaN</td>\n",
       "      <td>NaN</td>\n",
       "      <td>NaN</td>\n",
       "      <td>NaN</td>\n",
       "      <td>40.644590</td>\n",
       "      <td>-73.892672</td>\n",
       "      <td>(40.644589618, -73.892672426)</td>\n",
       "      <td>PATROL BORO BKLYN SOUTH</td>\n",
       "      <td>NaN</td>\n",
       "      <td>45-64</td>\n",
       "      <td>BLACK</td>\n",
       "      <td>F</td>\n",
       "    </tr>\n",
       "  </tbody>\n",
       "</table>\n",
       "</div>"
      ],
      "text/plain": [
       "   CMPLNT_NUM CMPLNT_FR_DT CMPLNT_FR_TM CMPLNT_TO_DT CMPLNT_TO_TM  \\\n",
       "0   325341655   02/11/2015     15:00:00          NaN          NaN   \n",
       "1   393816841   03/17/2012     10:30:00   03/17/2012     11:00:00   \n",
       "\n",
       "   ADDR_PCT_CD      RPT_DT  KY_CD                       OFNS_DESC  PD_CD  \\\n",
       "0         73.0  02/11/2015    359  OFFENSES AGAINST PUBLIC ADMINI  749.0   \n",
       "1         69.0  03/17/2012    344    ASSAULT 3 & RELATED OFFENSES  114.0   \n",
       "\n",
       "                          PD_DESC CRM_ATPT_CPTD_CD   LAW_CAT_CD   BORO_NM  \\\n",
       "0  VIOLATION OF ORDER OF PROTECTI        COMPLETED  MISDEMEANOR  BROOKLYN   \n",
       "1             OBSTR BREATH/CIRCUL        COMPLETED  MISDEMEANOR  BROOKLYN   \n",
       "\n",
       "  LOC_OF_OCCUR_DESC               PREM_TYP_DESC           JURIS_DESC  \\\n",
       "0            INSIDE  RESIDENCE - PUBLIC HOUSING  N.Y. HOUSING POLICE   \n",
       "1            INSIDE             RESIDENCE-HOUSE     N.Y. POLICE DEPT   \n",
       "\n",
       "   JURISDICTION_CODE PARKS_NM HADEVELOPT HOUSING_PSA  X_COORD_CD  Y_COORD_CD  \\\n",
       "0                2.0      NaN     TILDEN         405   1009656.0    181287.0   \n",
       "1                0.0      NaN        NaN         NaN   1014035.0    174133.0   \n",
       "\n",
       "  SUSP_AGE_GROUP SUSP_RACE SUSP_SEX  TRANSIT_DISTRICT   Latitude  Longitude  \\\n",
       "0          25-44     BLACK        M               NaN  40.664239 -73.908425   \n",
       "1            NaN       NaN      NaN               NaN  40.644590 -73.892672   \n",
       "\n",
       "                         Lat_Lon              PATROL_BORO STATION_NAME  \\\n",
       "0  (40.664239422, -73.908425011)  PATROL BORO BKLYN NORTH          NaN   \n",
       "1  (40.644589618, -73.892672426)  PATROL BORO BKLYN SOUTH          NaN   \n",
       "\n",
       "  VIC_AGE_GROUP VIC_RACE VIC_SEX  \n",
       "0           <18    BLACK       M  \n",
       "1         45-64    BLACK       F  "
      ]
     },
     "execution_count": 96,
     "metadata": {},
     "output_type": "execute_result"
    }
   ],
   "source": [
    "nypd_historic_df.head(2)"
   ]
  },
  {
   "cell_type": "code",
   "execution_count": 98,
   "metadata": {},
   "outputs": [
    {
     "data": {
      "text/plain": [
       "(196624, 36)"
      ]
     },
     "execution_count": 98,
     "metadata": {},
     "output_type": "execute_result"
    }
   ],
   "source": [
    "nypd_ytd_df.shape"
   ]
  },
  {
   "cell_type": "code",
   "execution_count": 99,
   "metadata": {},
   "outputs": [
    {
     "data": {
      "text/plain": [
       "(6983207, 35)"
      ]
     },
     "execution_count": 99,
     "metadata": {},
     "output_type": "execute_result"
    }
   ],
   "source": [
    "nypd_historic_df.shape"
   ]
  },
  {
   "cell_type": "code",
   "execution_count": 101,
   "metadata": {},
   "outputs": [
    {
     "data": {
      "text/plain": [
       "set()"
      ]
     },
     "execution_count": 101,
     "metadata": {},
     "output_type": "execute_result"
    }
   ],
   "source": [
    "set(list(nypd_historic_df.columns)) - set(list(nypd_ytd_df.columns))"
   ]
  },
  {
   "cell_type": "code",
   "execution_count": 102,
   "metadata": {},
   "outputs": [
    {
     "data": {
      "text/plain": [
       "{'New Georeferenced Column'}"
      ]
     },
     "execution_count": 102,
     "metadata": {},
     "output_type": "execute_result"
    }
   ],
   "source": [
    "set(list(nypd_ytd_df.columns)) - set(list(nypd_historic_df.columns)) "
   ]
  },
  {
   "cell_type": "code",
   "execution_count": 104,
   "metadata": {},
   "outputs": [],
   "source": [
    "nypd_ytd_df = nypd_ytd_df[nypd_historic_df.columns].copy()"
   ]
  },
  {
   "cell_type": "code",
   "execution_count": 105,
   "metadata": {},
   "outputs": [],
   "source": [
    "orig_col_order = list(nypd_historic_df.columns)\n",
    "nypd_df = pd.concat([nypd_historic_df, nypd_ytd_df], sort=True)\n",
    "nypd_df = nypd_df[orig_col_order].copy()\n",
    "nypd_df.reset_index(drop=True, inplace=True)"
   ]
  },
  {
   "cell_type": "code",
   "execution_count": null,
   "metadata": {},
   "outputs": [],
   "source": [
    "nypd_df['CMPLNT_FR_DT_orig'] = nypd_df['CMPLNT_FR_DT']\n",
    "nypd_df['CMPLNT_TO_DT_orig'] = nypd_df['CMPLNT_TO_DT']"
   ]
  },
  {
   "cell_type": "code",
   "execution_count": 108,
   "metadata": {},
   "outputs": [],
   "source": [
    "nypd_df['CMPLNT_FR_DT'] = nypd_df['CMPLNT_FR_DT'] + ' ' + nypd_df['CMPLNT_FR_TM']\n",
    "nypd_df['CMPLNT_TO_DT'] = nypd_df['CMPLNT_TO_DT'] + ' ' + nypd_df['CMPLNT_TO_TM']"
   ]
  },
  {
   "cell_type": "code",
   "execution_count": 112,
   "metadata": {},
   "outputs": [
    {
     "ename": "OutOfBoundsDatetime",
     "evalue": "Out of bounds nanosecond timestamp: 1018-12-10 17:10:00",
     "output_type": "error",
     "traceback": [
      "\u001b[0;31m---------------------------------------------------------------------------\u001b[0m",
      "\u001b[0;31mTypeError\u001b[0m                                 Traceback (most recent call last)",
      "\u001b[0;32m~/.local/lib/python3.8/site-packages/pandas/core/tools/datetimes.py\u001b[0m in \u001b[0;36m_convert_listlike_datetimes\u001b[0;34m(arg, format, name, tz, unit, errors, infer_datetime_format, dayfirst, yearfirst, exact)\u001b[0m\n\u001b[1;32m    431\u001b[0m             \u001b[0;32mtry\u001b[0m\u001b[0;34m:\u001b[0m\u001b[0;34m\u001b[0m\u001b[0;34m\u001b[0m\u001b[0m\n\u001b[0;32m--> 432\u001b[0;31m                 \u001b[0mvalues\u001b[0m\u001b[0;34m,\u001b[0m \u001b[0mtz\u001b[0m \u001b[0;34m=\u001b[0m \u001b[0mconversion\u001b[0m\u001b[0;34m.\u001b[0m\u001b[0mdatetime_to_datetime64\u001b[0m\u001b[0;34m(\u001b[0m\u001b[0marg\u001b[0m\u001b[0;34m)\u001b[0m\u001b[0;34m\u001b[0m\u001b[0;34m\u001b[0m\u001b[0m\n\u001b[0m\u001b[1;32m    433\u001b[0m                 \u001b[0;32mreturn\u001b[0m \u001b[0mDatetimeIndex\u001b[0m\u001b[0;34m.\u001b[0m\u001b[0m_simple_new\u001b[0m\u001b[0;34m(\u001b[0m\u001b[0mvalues\u001b[0m\u001b[0;34m,\u001b[0m \u001b[0mname\u001b[0m\u001b[0;34m=\u001b[0m\u001b[0mname\u001b[0m\u001b[0;34m,\u001b[0m \u001b[0mtz\u001b[0m\u001b[0;34m=\u001b[0m\u001b[0mtz\u001b[0m\u001b[0;34m)\u001b[0m\u001b[0;34m\u001b[0m\u001b[0;34m\u001b[0m\u001b[0m\n",
      "\u001b[0;32mpandas/_libs/tslibs/conversion.pyx\u001b[0m in \u001b[0;36mpandas._libs.tslibs.conversion.datetime_to_datetime64\u001b[0;34m()\u001b[0m\n",
      "\u001b[0;31mTypeError\u001b[0m: Unrecognized value type: <class 'str'>",
      "\nDuring handling of the above exception, another exception occurred:\n",
      "\u001b[0;31mOutOfBoundsDatetime\u001b[0m                       Traceback (most recent call last)",
      "\u001b[0;32m<ipython-input-112-1e2a7e024a85>\u001b[0m in \u001b[0;36m<module>\u001b[0;34m\u001b[0m\n\u001b[0;32m----> 1\u001b[0;31m \u001b[0mnypd_df\u001b[0m\u001b[0;34m[\u001b[0m\u001b[0;34m'CMPLNT_FR_DT'\u001b[0m\u001b[0;34m]\u001b[0m \u001b[0;34m=\u001b[0m \u001b[0mpd\u001b[0m\u001b[0;34m.\u001b[0m\u001b[0mto_datetime\u001b[0m\u001b[0;34m(\u001b[0m\u001b[0mnypd_df\u001b[0m\u001b[0;34m[\u001b[0m\u001b[0;34m'CMPLNT_FR_DT'\u001b[0m\u001b[0;34m]\u001b[0m\u001b[0;34m,\u001b[0m \u001b[0mformat\u001b[0m\u001b[0;34m=\u001b[0m\u001b[0;34m'%m/%d/%Y %H:%M:%S'\u001b[0m\u001b[0;34m)\u001b[0m\u001b[0;34m\u001b[0m\u001b[0;34m\u001b[0m\u001b[0m\n\u001b[0m\u001b[1;32m      2\u001b[0m \u001b[0mnypd_df\u001b[0m\u001b[0;34m[\u001b[0m\u001b[0;34m'CMPLNT_TO_DT'\u001b[0m\u001b[0;34m]\u001b[0m \u001b[0;34m=\u001b[0m \u001b[0mpd\u001b[0m\u001b[0;34m.\u001b[0m\u001b[0mto_datetime\u001b[0m\u001b[0;34m(\u001b[0m\u001b[0mnypd_df\u001b[0m\u001b[0;34m[\u001b[0m\u001b[0;34m'CMPLNT_FR_DT'\u001b[0m\u001b[0;34m]\u001b[0m\u001b[0;34m,\u001b[0m \u001b[0mformat\u001b[0m\u001b[0;34m=\u001b[0m\u001b[0;34m'%m/%d/%Y %H:%M:%S'\u001b[0m\u001b[0;34m)\u001b[0m\u001b[0;34m\u001b[0m\u001b[0;34m\u001b[0m\u001b[0m\n\u001b[1;32m      3\u001b[0m \u001b[0mnypd_df\u001b[0m\u001b[0;34m[\u001b[0m\u001b[0;34m'RPT_DT'\u001b[0m\u001b[0;34m]\u001b[0m \u001b[0;34m=\u001b[0m \u001b[0mpd\u001b[0m\u001b[0;34m.\u001b[0m\u001b[0mto_datetime\u001b[0m\u001b[0;34m(\u001b[0m\u001b[0mnypd_df\u001b[0m\u001b[0;34m[\u001b[0m\u001b[0;34m'RPT_DT'\u001b[0m\u001b[0;34m]\u001b[0m\u001b[0;34m,\u001b[0m \u001b[0mformat\u001b[0m\u001b[0;34m=\u001b[0m\u001b[0;34m'%m/%d/%Y'\u001b[0m\u001b[0;34m)\u001b[0m\u001b[0;34m\u001b[0m\u001b[0;34m\u001b[0m\u001b[0m\n",
      "\u001b[0;32m~/.local/lib/python3.8/site-packages/pandas/core/tools/datetimes.py\u001b[0m in \u001b[0;36mto_datetime\u001b[0;34m(arg, errors, dayfirst, yearfirst, utc, format, exact, unit, infer_datetime_format, origin, cache)\u001b[0m\n\u001b[1;32m    726\u001b[0m             \u001b[0mresult\u001b[0m \u001b[0;34m=\u001b[0m \u001b[0marg\u001b[0m\u001b[0;34m.\u001b[0m\u001b[0mmap\u001b[0m\u001b[0;34m(\u001b[0m\u001b[0mcache_array\u001b[0m\u001b[0;34m)\u001b[0m\u001b[0;34m\u001b[0m\u001b[0;34m\u001b[0m\u001b[0m\n\u001b[1;32m    727\u001b[0m         \u001b[0;32melse\u001b[0m\u001b[0;34m:\u001b[0m\u001b[0;34m\u001b[0m\u001b[0;34m\u001b[0m\u001b[0m\n\u001b[0;32m--> 728\u001b[0;31m             \u001b[0mvalues\u001b[0m \u001b[0;34m=\u001b[0m \u001b[0mconvert_listlike\u001b[0m\u001b[0;34m(\u001b[0m\u001b[0marg\u001b[0m\u001b[0;34m.\u001b[0m\u001b[0m_values\u001b[0m\u001b[0;34m,\u001b[0m \u001b[0mformat\u001b[0m\u001b[0;34m)\u001b[0m\u001b[0;34m\u001b[0m\u001b[0;34m\u001b[0m\u001b[0m\n\u001b[0m\u001b[1;32m    729\u001b[0m             \u001b[0mresult\u001b[0m \u001b[0;34m=\u001b[0m \u001b[0marg\u001b[0m\u001b[0;34m.\u001b[0m\u001b[0m_constructor\u001b[0m\u001b[0;34m(\u001b[0m\u001b[0mvalues\u001b[0m\u001b[0;34m,\u001b[0m \u001b[0mindex\u001b[0m\u001b[0;34m=\u001b[0m\u001b[0marg\u001b[0m\u001b[0;34m.\u001b[0m\u001b[0mindex\u001b[0m\u001b[0;34m,\u001b[0m \u001b[0mname\u001b[0m\u001b[0;34m=\u001b[0m\u001b[0marg\u001b[0m\u001b[0;34m.\u001b[0m\u001b[0mname\u001b[0m\u001b[0;34m)\u001b[0m\u001b[0;34m\u001b[0m\u001b[0;34m\u001b[0m\u001b[0m\n\u001b[1;32m    730\u001b[0m     \u001b[0;32melif\u001b[0m \u001b[0misinstance\u001b[0m\u001b[0;34m(\u001b[0m\u001b[0marg\u001b[0m\u001b[0;34m,\u001b[0m \u001b[0;34m(\u001b[0m\u001b[0mABCDataFrame\u001b[0m\u001b[0;34m,\u001b[0m \u001b[0mabc\u001b[0m\u001b[0;34m.\u001b[0m\u001b[0mMutableMapping\u001b[0m\u001b[0;34m)\u001b[0m\u001b[0;34m)\u001b[0m\u001b[0;34m:\u001b[0m\u001b[0;34m\u001b[0m\u001b[0;34m\u001b[0m\u001b[0m\n",
      "\u001b[0;32m~/.local/lib/python3.8/site-packages/pandas/core/tools/datetimes.py\u001b[0m in \u001b[0;36m_convert_listlike_datetimes\u001b[0;34m(arg, format, name, tz, unit, errors, infer_datetime_format, dayfirst, yearfirst, exact)\u001b[0m\n\u001b[1;32m    433\u001b[0m                 \u001b[0;32mreturn\u001b[0m \u001b[0mDatetimeIndex\u001b[0m\u001b[0;34m.\u001b[0m\u001b[0m_simple_new\u001b[0m\u001b[0;34m(\u001b[0m\u001b[0mvalues\u001b[0m\u001b[0;34m,\u001b[0m \u001b[0mname\u001b[0m\u001b[0;34m=\u001b[0m\u001b[0mname\u001b[0m\u001b[0;34m,\u001b[0m \u001b[0mtz\u001b[0m\u001b[0;34m=\u001b[0m\u001b[0mtz\u001b[0m\u001b[0;34m)\u001b[0m\u001b[0;34m\u001b[0m\u001b[0;34m\u001b[0m\u001b[0m\n\u001b[1;32m    434\u001b[0m             \u001b[0;32mexcept\u001b[0m \u001b[0;34m(\u001b[0m\u001b[0mValueError\u001b[0m\u001b[0;34m,\u001b[0m \u001b[0mTypeError\u001b[0m\u001b[0;34m)\u001b[0m\u001b[0;34m:\u001b[0m\u001b[0;34m\u001b[0m\u001b[0;34m\u001b[0m\u001b[0m\n\u001b[0;32m--> 435\u001b[0;31m                 \u001b[0;32mraise\u001b[0m \u001b[0me\u001b[0m\u001b[0;34m\u001b[0m\u001b[0;34m\u001b[0m\u001b[0m\n\u001b[0m\u001b[1;32m    436\u001b[0m \u001b[0;34m\u001b[0m\u001b[0m\n\u001b[1;32m    437\u001b[0m     \u001b[0;32mif\u001b[0m \u001b[0mresult\u001b[0m \u001b[0;32mis\u001b[0m \u001b[0;32mNone\u001b[0m\u001b[0;34m:\u001b[0m\u001b[0;34m\u001b[0m\u001b[0;34m\u001b[0m\u001b[0m\n",
      "\u001b[0;32m~/.local/lib/python3.8/site-packages/pandas/core/tools/datetimes.py\u001b[0m in \u001b[0;36m_convert_listlike_datetimes\u001b[0;34m(arg, format, name, tz, unit, errors, infer_datetime_format, dayfirst, yearfirst, exact)\u001b[0m\n\u001b[1;32m    397\u001b[0m             \u001b[0;32mif\u001b[0m \u001b[0mresult\u001b[0m \u001b[0;32mis\u001b[0m \u001b[0;32mNone\u001b[0m\u001b[0;34m:\u001b[0m\u001b[0;34m\u001b[0m\u001b[0;34m\u001b[0m\u001b[0m\n\u001b[1;32m    398\u001b[0m                 \u001b[0;32mtry\u001b[0m\u001b[0;34m:\u001b[0m\u001b[0;34m\u001b[0m\u001b[0;34m\u001b[0m\u001b[0m\n\u001b[0;32m--> 399\u001b[0;31m                     result, timezones = array_strptime(\n\u001b[0m\u001b[1;32m    400\u001b[0m                         \u001b[0marg\u001b[0m\u001b[0;34m,\u001b[0m \u001b[0mformat\u001b[0m\u001b[0;34m,\u001b[0m \u001b[0mexact\u001b[0m\u001b[0;34m=\u001b[0m\u001b[0mexact\u001b[0m\u001b[0;34m,\u001b[0m \u001b[0merrors\u001b[0m\u001b[0;34m=\u001b[0m\u001b[0merrors\u001b[0m\u001b[0;34m\u001b[0m\u001b[0;34m\u001b[0m\u001b[0m\n\u001b[1;32m    401\u001b[0m                     )\n",
      "\u001b[0;32mpandas/_libs/tslibs/strptime.pyx\u001b[0m in \u001b[0;36mpandas._libs.tslibs.strptime.array_strptime\u001b[0;34m()\u001b[0m\n",
      "\u001b[0;32mpandas/_libs/tslibs/strptime.pyx\u001b[0m in \u001b[0;36mpandas._libs.tslibs.strptime.array_strptime\u001b[0;34m()\u001b[0m\n",
      "\u001b[0;32mpandas/_libs/tslibs/np_datetime.pyx\u001b[0m in \u001b[0;36mpandas._libs.tslibs.np_datetime.check_dts_bounds\u001b[0;34m()\u001b[0m\n",
      "\u001b[0;31mOutOfBoundsDatetime\u001b[0m: Out of bounds nanosecond timestamp: 1018-12-10 17:10:00"
     ]
    }
   ],
   "source": [
    "nypd_df['CMPLNT_FR_DT'] = pd.to_datetime(nypd_df['CMPLNT_FR_DT'], format='%m/%d/%Y %H:%M:%S')\n",
    "nypd_df['CMPLNT_TO_DT'] = pd.to_datetime(nypd_df['CMPLNT_FR_DT'], format='%m/%d/%Y %H:%M:%S')\n",
    "nypd_df['RPT_DT'] = pd.to_datetime(nypd_df['RPT_DT'], format='%m/%d/%Y')"
   ]
  },
  {
   "cell_type": "code",
   "execution_count": 111,
   "metadata": {},
   "outputs": [
    {
     "data": {
      "text/html": [
       "<div>\n",
       "<style scoped>\n",
       "    .dataframe tbody tr th:only-of-type {\n",
       "        vertical-align: middle;\n",
       "    }\n",
       "\n",
       "    .dataframe tbody tr th {\n",
       "        vertical-align: top;\n",
       "    }\n",
       "\n",
       "    .dataframe thead th {\n",
       "        text-align: right;\n",
       "    }\n",
       "</style>\n",
       "<table border=\"1\" class=\"dataframe\">\n",
       "  <thead>\n",
       "    <tr style=\"text-align: right;\">\n",
       "      <th></th>\n",
       "      <th>CMPLNT_NUM</th>\n",
       "      <th>CMPLNT_FR_DT</th>\n",
       "      <th>CMPLNT_FR_TM</th>\n",
       "      <th>CMPLNT_TO_DT</th>\n",
       "      <th>CMPLNT_TO_TM</th>\n",
       "      <th>ADDR_PCT_CD</th>\n",
       "      <th>RPT_DT</th>\n",
       "      <th>KY_CD</th>\n",
       "      <th>OFNS_DESC</th>\n",
       "      <th>PD_CD</th>\n",
       "      <th>PD_DESC</th>\n",
       "      <th>CRM_ATPT_CPTD_CD</th>\n",
       "      <th>LAW_CAT_CD</th>\n",
       "      <th>BORO_NM</th>\n",
       "      <th>LOC_OF_OCCUR_DESC</th>\n",
       "      <th>PREM_TYP_DESC</th>\n",
       "      <th>JURIS_DESC</th>\n",
       "      <th>JURISDICTION_CODE</th>\n",
       "      <th>PARKS_NM</th>\n",
       "      <th>HADEVELOPT</th>\n",
       "      <th>HOUSING_PSA</th>\n",
       "      <th>X_COORD_CD</th>\n",
       "      <th>Y_COORD_CD</th>\n",
       "      <th>SUSP_AGE_GROUP</th>\n",
       "      <th>SUSP_RACE</th>\n",
       "      <th>SUSP_SEX</th>\n",
       "      <th>TRANSIT_DISTRICT</th>\n",
       "      <th>Latitude</th>\n",
       "      <th>Longitude</th>\n",
       "      <th>Lat_Lon</th>\n",
       "      <th>PATROL_BORO</th>\n",
       "      <th>STATION_NAME</th>\n",
       "      <th>VIC_AGE_GROUP</th>\n",
       "      <th>VIC_RACE</th>\n",
       "      <th>VIC_SEX</th>\n",
       "    </tr>\n",
       "  </thead>\n",
       "  <tbody>\n",
       "    <tr>\n",
       "      <th>0</th>\n",
       "      <td>325341655</td>\n",
       "      <td>02/11/2015 15:00:00</td>\n",
       "      <td>15:00:00</td>\n",
       "      <td>NaN</td>\n",
       "      <td>NaN</td>\n",
       "      <td>73.0</td>\n",
       "      <td>02/11/2015</td>\n",
       "      <td>359</td>\n",
       "      <td>OFFENSES AGAINST PUBLIC ADMINI</td>\n",
       "      <td>749.0</td>\n",
       "      <td>VIOLATION OF ORDER OF PROTECTI</td>\n",
       "      <td>COMPLETED</td>\n",
       "      <td>MISDEMEANOR</td>\n",
       "      <td>BROOKLYN</td>\n",
       "      <td>INSIDE</td>\n",
       "      <td>RESIDENCE - PUBLIC HOUSING</td>\n",
       "      <td>N.Y. HOUSING POLICE</td>\n",
       "      <td>2.0</td>\n",
       "      <td>NaN</td>\n",
       "      <td>TILDEN</td>\n",
       "      <td>405</td>\n",
       "      <td>1009656.0</td>\n",
       "      <td>181287.0</td>\n",
       "      <td>25-44</td>\n",
       "      <td>BLACK</td>\n",
       "      <td>M</td>\n",
       "      <td>NaN</td>\n",
       "      <td>40.664239</td>\n",
       "      <td>-73.908425</td>\n",
       "      <td>(40.664239422, -73.908425011)</td>\n",
       "      <td>PATROL BORO BKLYN NORTH</td>\n",
       "      <td>NaN</td>\n",
       "      <td>&lt;18</td>\n",
       "      <td>BLACK</td>\n",
       "      <td>M</td>\n",
       "    </tr>\n",
       "    <tr>\n",
       "      <th>1</th>\n",
       "      <td>393816841</td>\n",
       "      <td>03/17/2012 10:30:00</td>\n",
       "      <td>10:30:00</td>\n",
       "      <td>03/17/2012 11:00:00</td>\n",
       "      <td>11:00:00</td>\n",
       "      <td>69.0</td>\n",
       "      <td>03/17/2012</td>\n",
       "      <td>344</td>\n",
       "      <td>ASSAULT 3 &amp; RELATED OFFENSES</td>\n",
       "      <td>114.0</td>\n",
       "      <td>OBSTR BREATH/CIRCUL</td>\n",
       "      <td>COMPLETED</td>\n",
       "      <td>MISDEMEANOR</td>\n",
       "      <td>BROOKLYN</td>\n",
       "      <td>INSIDE</td>\n",
       "      <td>RESIDENCE-HOUSE</td>\n",
       "      <td>N.Y. POLICE DEPT</td>\n",
       "      <td>0.0</td>\n",
       "      <td>NaN</td>\n",
       "      <td>NaN</td>\n",
       "      <td>NaN</td>\n",
       "      <td>1014035.0</td>\n",
       "      <td>174133.0</td>\n",
       "      <td>NaN</td>\n",
       "      <td>NaN</td>\n",
       "      <td>NaN</td>\n",
       "      <td>NaN</td>\n",
       "      <td>40.644590</td>\n",
       "      <td>-73.892672</td>\n",
       "      <td>(40.644589618, -73.892672426)</td>\n",
       "      <td>PATROL BORO BKLYN SOUTH</td>\n",
       "      <td>NaN</td>\n",
       "      <td>45-64</td>\n",
       "      <td>BLACK</td>\n",
       "      <td>F</td>\n",
       "    </tr>\n",
       "  </tbody>\n",
       "</table>\n",
       "</div>"
      ],
      "text/plain": [
       "   CMPLNT_NUM         CMPLNT_FR_DT CMPLNT_FR_TM         CMPLNT_TO_DT  \\\n",
       "0   325341655  02/11/2015 15:00:00     15:00:00                  NaN   \n",
       "1   393816841  03/17/2012 10:30:00     10:30:00  03/17/2012 11:00:00   \n",
       "\n",
       "  CMPLNT_TO_TM  ADDR_PCT_CD      RPT_DT  KY_CD  \\\n",
       "0          NaN         73.0  02/11/2015    359   \n",
       "1     11:00:00         69.0  03/17/2012    344   \n",
       "\n",
       "                        OFNS_DESC  PD_CD                         PD_DESC  \\\n",
       "0  OFFENSES AGAINST PUBLIC ADMINI  749.0  VIOLATION OF ORDER OF PROTECTI   \n",
       "1    ASSAULT 3 & RELATED OFFENSES  114.0             OBSTR BREATH/CIRCUL   \n",
       "\n",
       "  CRM_ATPT_CPTD_CD   LAW_CAT_CD   BORO_NM LOC_OF_OCCUR_DESC  \\\n",
       "0        COMPLETED  MISDEMEANOR  BROOKLYN            INSIDE   \n",
       "1        COMPLETED  MISDEMEANOR  BROOKLYN            INSIDE   \n",
       "\n",
       "                PREM_TYP_DESC           JURIS_DESC  JURISDICTION_CODE  \\\n",
       "0  RESIDENCE - PUBLIC HOUSING  N.Y. HOUSING POLICE                2.0   \n",
       "1             RESIDENCE-HOUSE     N.Y. POLICE DEPT                0.0   \n",
       "\n",
       "  PARKS_NM HADEVELOPT HOUSING_PSA  X_COORD_CD  Y_COORD_CD SUSP_AGE_GROUP  \\\n",
       "0      NaN     TILDEN         405   1009656.0    181287.0          25-44   \n",
       "1      NaN        NaN         NaN   1014035.0    174133.0            NaN   \n",
       "\n",
       "  SUSP_RACE SUSP_SEX  TRANSIT_DISTRICT   Latitude  Longitude  \\\n",
       "0     BLACK        M               NaN  40.664239 -73.908425   \n",
       "1       NaN      NaN               NaN  40.644590 -73.892672   \n",
       "\n",
       "                         Lat_Lon              PATROL_BORO STATION_NAME  \\\n",
       "0  (40.664239422, -73.908425011)  PATROL BORO BKLYN NORTH          NaN   \n",
       "1  (40.644589618, -73.892672426)  PATROL BORO BKLYN SOUTH          NaN   \n",
       "\n",
       "  VIC_AGE_GROUP VIC_RACE VIC_SEX  \n",
       "0           <18    BLACK       M  \n",
       "1         45-64    BLACK       F  "
      ]
     },
     "execution_count": 111,
     "metadata": {},
     "output_type": "execute_result"
    }
   ],
   "source": [
    "nypd_df.head(2)"
   ]
  },
  {
   "cell_type": "code",
   "execution_count": 97,
   "metadata": {},
   "outputs": [
    {
     "data": {
      "text/html": [
       "<div>\n",
       "<style scoped>\n",
       "    .dataframe tbody tr th:only-of-type {\n",
       "        vertical-align: middle;\n",
       "    }\n",
       "\n",
       "    .dataframe tbody tr th {\n",
       "        vertical-align: top;\n",
       "    }\n",
       "\n",
       "    .dataframe thead th {\n",
       "        text-align: right;\n",
       "    }\n",
       "</style>\n",
       "<table border=\"1\" class=\"dataframe\">\n",
       "  <thead>\n",
       "    <tr style=\"text-align: right;\">\n",
       "      <th></th>\n",
       "      <th>CMPLNT_NUM</th>\n",
       "      <th>ADDR_PCT_CD</th>\n",
       "      <th>BORO_NM</th>\n",
       "      <th>CMPLNT_FR_DT</th>\n",
       "      <th>CMPLNT_FR_TM</th>\n",
       "      <th>CMPLNT_TO_DT</th>\n",
       "      <th>CMPLNT_TO_TM</th>\n",
       "      <th>CRM_ATPT_CPTD_CD</th>\n",
       "      <th>HADEVELOPT</th>\n",
       "      <th>HOUSING_PSA</th>\n",
       "      <th>JURISDICTION_CODE</th>\n",
       "      <th>JURIS_DESC</th>\n",
       "      <th>KY_CD</th>\n",
       "      <th>LAW_CAT_CD</th>\n",
       "      <th>LOC_OF_OCCUR_DESC</th>\n",
       "      <th>OFNS_DESC</th>\n",
       "      <th>PARKS_NM</th>\n",
       "      <th>PATROL_BORO</th>\n",
       "      <th>PD_CD</th>\n",
       "      <th>PD_DESC</th>\n",
       "      <th>PREM_TYP_DESC</th>\n",
       "      <th>RPT_DT</th>\n",
       "      <th>STATION_NAME</th>\n",
       "      <th>SUSP_AGE_GROUP</th>\n",
       "      <th>SUSP_RACE</th>\n",
       "      <th>SUSP_SEX</th>\n",
       "      <th>TRANSIT_DISTRICT</th>\n",
       "      <th>VIC_AGE_GROUP</th>\n",
       "      <th>VIC_RACE</th>\n",
       "      <th>VIC_SEX</th>\n",
       "      <th>X_COORD_CD</th>\n",
       "      <th>Y_COORD_CD</th>\n",
       "      <th>Latitude</th>\n",
       "      <th>Longitude</th>\n",
       "      <th>Lat_Lon</th>\n",
       "      <th>New Georeferenced Column</th>\n",
       "    </tr>\n",
       "  </thead>\n",
       "  <tbody>\n",
       "    <tr>\n",
       "      <th>0</th>\n",
       "      <td>428569034</td>\n",
       "      <td>63</td>\n",
       "      <td>BROOKLYN</td>\n",
       "      <td>01/06/2020</td>\n",
       "      <td>00:00:00</td>\n",
       "      <td>01/06/2020</td>\n",
       "      <td>07:00:00</td>\n",
       "      <td>COMPLETED</td>\n",
       "      <td>NaN</td>\n",
       "      <td>NaN</td>\n",
       "      <td>0.0</td>\n",
       "      <td>N.Y. POLICE DEPT</td>\n",
       "      <td>107</td>\n",
       "      <td>FELONY</td>\n",
       "      <td>FRONT OF</td>\n",
       "      <td>BURGLARY</td>\n",
       "      <td>NaN</td>\n",
       "      <td>PATROL BORO BKLYN SOUTH</td>\n",
       "      <td>233.0</td>\n",
       "      <td>BURGLARY,TRUCK NIGHT</td>\n",
       "      <td>OTHER</td>\n",
       "      <td>01/06/2020</td>\n",
       "      <td>NaN</td>\n",
       "      <td>NaN</td>\n",
       "      <td>NaN</td>\n",
       "      <td>NaN</td>\n",
       "      <td>NaN</td>\n",
       "      <td>25-44</td>\n",
       "      <td>BLACK HISPANIC</td>\n",
       "      <td>M</td>\n",
       "      <td>1002926</td>\n",
       "      <td>168402</td>\n",
       "      <td>40.628890</td>\n",
       "      <td>-73.932719</td>\n",
       "      <td>(40.62888963700004, -73.93271908899999)</td>\n",
       "      <td>POINT (-73.93271908899999 40.62888963700004)</td>\n",
       "    </tr>\n",
       "    <tr>\n",
       "      <th>1</th>\n",
       "      <td>730098953</td>\n",
       "      <td>19</td>\n",
       "      <td>MANHATTAN</td>\n",
       "      <td>01/06/2020</td>\n",
       "      <td>22:00:00</td>\n",
       "      <td>01/06/2020</td>\n",
       "      <td>23:00:00</td>\n",
       "      <td>COMPLETED</td>\n",
       "      <td>NaN</td>\n",
       "      <td>NaN</td>\n",
       "      <td>0.0</td>\n",
       "      <td>N.Y. POLICE DEPT</td>\n",
       "      <td>341</td>\n",
       "      <td>MISDEMEANOR</td>\n",
       "      <td>NaN</td>\n",
       "      <td>PETIT LARCENY</td>\n",
       "      <td>NaN</td>\n",
       "      <td>PATROL BORO MAN NORTH</td>\n",
       "      <td>349.0</td>\n",
       "      <td>LARCENY,PETIT OF LICENSE PLATE</td>\n",
       "      <td>STREET</td>\n",
       "      <td>01/07/2020</td>\n",
       "      <td>NaN</td>\n",
       "      <td>NaN</td>\n",
       "      <td>NaN</td>\n",
       "      <td>NaN</td>\n",
       "      <td>NaN</td>\n",
       "      <td>45-64</td>\n",
       "      <td>BLACK</td>\n",
       "      <td>F</td>\n",
       "      <td>999296</td>\n",
       "      <td>224166</td>\n",
       "      <td>40.781956</td>\n",
       "      <td>-73.945672</td>\n",
       "      <td>(40.78195554300004, -73.94567197099997)</td>\n",
       "      <td>POINT (-73.94567197099997 40.78195554300004)</td>\n",
       "    </tr>\n",
       "  </tbody>\n",
       "</table>\n",
       "</div>"
      ],
      "text/plain": [
       "   CMPLNT_NUM  ADDR_PCT_CD    BORO_NM CMPLNT_FR_DT CMPLNT_FR_TM CMPLNT_TO_DT  \\\n",
       "0   428569034           63   BROOKLYN   01/06/2020     00:00:00   01/06/2020   \n",
       "1   730098953           19  MANHATTAN   01/06/2020     22:00:00   01/06/2020   \n",
       "\n",
       "  CMPLNT_TO_TM CRM_ATPT_CPTD_CD HADEVELOPT  HOUSING_PSA  JURISDICTION_CODE  \\\n",
       "0     07:00:00        COMPLETED        NaN          NaN                0.0   \n",
       "1     23:00:00        COMPLETED        NaN          NaN                0.0   \n",
       "\n",
       "         JURIS_DESC  KY_CD   LAW_CAT_CD LOC_OF_OCCUR_DESC      OFNS_DESC  \\\n",
       "0  N.Y. POLICE DEPT    107       FELONY          FRONT OF       BURGLARY   \n",
       "1  N.Y. POLICE DEPT    341  MISDEMEANOR               NaN  PETIT LARCENY   \n",
       "\n",
       "  PARKS_NM              PATROL_BORO  PD_CD                         PD_DESC  \\\n",
       "0      NaN  PATROL BORO BKLYN SOUTH  233.0            BURGLARY,TRUCK NIGHT   \n",
       "1      NaN    PATROL BORO MAN NORTH  349.0  LARCENY,PETIT OF LICENSE PLATE   \n",
       "\n",
       "  PREM_TYP_DESC      RPT_DT STATION_NAME SUSP_AGE_GROUP SUSP_RACE SUSP_SEX  \\\n",
       "0         OTHER  01/06/2020          NaN            NaN       NaN      NaN   \n",
       "1        STREET  01/07/2020          NaN            NaN       NaN      NaN   \n",
       "\n",
       "   TRANSIT_DISTRICT VIC_AGE_GROUP        VIC_RACE VIC_SEX  X_COORD_CD  \\\n",
       "0               NaN         25-44  BLACK HISPANIC       M     1002926   \n",
       "1               NaN         45-64           BLACK       F      999296   \n",
       "\n",
       "   Y_COORD_CD   Latitude  Longitude                                  Lat_Lon  \\\n",
       "0      168402  40.628890 -73.932719  (40.62888963700004, -73.93271908899999)   \n",
       "1      224166  40.781956 -73.945672  (40.78195554300004, -73.94567197099997)   \n",
       "\n",
       "                       New Georeferenced Column  \n",
       "0  POINT (-73.93271908899999 40.62888963700004)  \n",
       "1  POINT (-73.94567197099997 40.78195554300004)  "
      ]
     },
     "execution_count": 97,
     "metadata": {},
     "output_type": "execute_result"
    }
   ],
   "source": [
    "nypd_ytd_df.head(2)"
   ]
  },
  {
   "cell_type": "code",
   "execution_count": 106,
   "metadata": {},
   "outputs": [
    {
     "name": "stdout",
     "output_type": "stream",
     "text": [
      "<class 'pandas.core.frame.DataFrame'>\n",
      "RangeIndex: 7179831 entries, 0 to 7179830\n",
      "Data columns (total 35 columns):\n",
      " #   Column             Dtype  \n",
      "---  ------             -----  \n",
      " 0   CMPLNT_NUM         int64  \n",
      " 1   CMPLNT_FR_DT       object \n",
      " 2   CMPLNT_FR_TM       object \n",
      " 3   CMPLNT_TO_DT       object \n",
      " 4   CMPLNT_TO_TM       object \n",
      " 5   ADDR_PCT_CD        float64\n",
      " 6   RPT_DT             object \n",
      " 7   KY_CD              int64  \n",
      " 8   OFNS_DESC          object \n",
      " 9   PD_CD              float64\n",
      " 10  PD_DESC            object \n",
      " 11  CRM_ATPT_CPTD_CD   object \n",
      " 12  LAW_CAT_CD         object \n",
      " 13  BORO_NM            object \n",
      " 14  LOC_OF_OCCUR_DESC  object \n",
      " 15  PREM_TYP_DESC      object \n",
      " 16  JURIS_DESC         object \n",
      " 17  JURISDICTION_CODE  float64\n",
      " 18  PARKS_NM           object \n",
      " 19  HADEVELOPT         object \n",
      " 20  HOUSING_PSA        object \n",
      " 21  X_COORD_CD         float64\n",
      " 22  Y_COORD_CD         float64\n",
      " 23  SUSP_AGE_GROUP     object \n",
      " 24  SUSP_RACE          object \n",
      " 25  SUSP_SEX           object \n",
      " 26  TRANSIT_DISTRICT   float64\n",
      " 27  Latitude           float64\n",
      " 28  Longitude          float64\n",
      " 29  Lat_Lon            object \n",
      " 30  PATROL_BORO        object \n",
      " 31  STATION_NAME       object \n",
      " 32  VIC_AGE_GROUP      object \n",
      " 33  VIC_RACE           object \n",
      " 34  VIC_SEX            object \n",
      "dtypes: float64(8), int64(2), object(25)\n",
      "memory usage: 1.9+ GB\n"
     ]
    }
   ],
   "source": [
    "nypd_df.info()"
   ]
  },
  {
   "cell_type": "code",
   "execution_count": null,
   "metadata": {},
   "outputs": [],
   "source": []
  },
  {
   "cell_type": "code",
   "execution_count": null,
   "metadata": {},
   "outputs": [],
   "source": []
  },
  {
   "cell_type": "code",
   "execution_count": null,
   "metadata": {},
   "outputs": [],
   "source": []
  },
  {
   "cell_type": "code",
   "execution_count": null,
   "metadata": {},
   "outputs": [],
   "source": []
  },
  {
   "cell_type": "code",
   "execution_count": null,
   "metadata": {},
   "outputs": [],
   "source": []
  },
  {
   "cell_type": "code",
   "execution_count": null,
   "metadata": {},
   "outputs": [],
   "source": []
  },
  {
   "cell_type": "code",
   "execution_count": null,
   "metadata": {},
   "outputs": [],
   "source": []
  },
  {
   "cell_type": "code",
   "execution_count": null,
   "metadata": {},
   "outputs": [],
   "source": []
  },
  {
   "cell_type": "code",
   "execution_count": null,
   "metadata": {},
   "outputs": [],
   "source": []
  },
  {
   "cell_type": "code",
   "execution_count": null,
   "metadata": {},
   "outputs": [],
   "source": []
  },
  {
   "cell_type": "code",
   "execution_count": null,
   "metadata": {},
   "outputs": [],
   "source": []
  },
  {
   "cell_type": "code",
   "execution_count": null,
   "metadata": {},
   "outputs": [],
   "source": []
  },
  {
   "cell_type": "code",
   "execution_count": null,
   "metadata": {},
   "outputs": [],
   "source": []
  },
  {
   "cell_type": "code",
   "execution_count": null,
   "metadata": {},
   "outputs": [],
   "source": []
  },
  {
   "cell_type": "code",
   "execution_count": null,
   "metadata": {},
   "outputs": [],
   "source": []
  }
 ],
 "metadata": {
  "kernelspec": {
   "display_name": "Python (geo_env)",
   "language": "python",
   "name": "geo_env"
  },
  "language_info": {
   "codemirror_mode": {
    "name": "ipython",
    "version": 3
   },
   "file_extension": ".py",
   "mimetype": "text/x-python",
   "name": "python",
   "nbconvert_exporter": "python",
   "pygments_lexer": "ipython3",
   "version": "3.8.3"
  }
 },
 "nbformat": 4,
 "nbformat_minor": 4
}
