{
 "cells": [
  {
   "cell_type": "code",
   "execution_count": 1,
   "metadata": {},
   "outputs": [],
   "source": [
    "import os\n",
    "import pandas as pd\n",
    "import numpy as np\n",
    "import seaborn as sns\n",
    "import matplotlib.pyplot as plt\n",
    "from IPython.core.display import display, HTML\n",
    "%matplotlib inline"
   ]
  },
  {
   "cell_type": "code",
   "execution_count": 2,
   "metadata": {},
   "outputs": [
    {
     "data": {
      "text/html": [
       "<style>.container { width:100% !important; }</style>"
      ],
      "text/plain": [
       "<IPython.core.display.HTML object>"
      ]
     },
     "metadata": {},
     "output_type": "display_data"
    }
   ],
   "source": [
    "import re\n",
    "import yaml\n",
    "import geopandas as gpd\n",
    "import requests\n",
    "import shutil\n",
    "import pprint\n",
    "from urllib.request import urlretrieve\n",
    "from datetime import datetime\n",
    "from zipfile import ZipFile\n",
    "\n",
    "# Notebook Styling \n",
    "sns.set()\n",
    "pd.options.display.max_columns = None\n",
    "display(HTML(\"<style>.container { width:100% !important; }</style>\"))\n",
    "\n",
    "DATA_DIR = os.path.join('..', 'data_raw')"
   ]
  },
  {
   "cell_type": "code",
   "execution_count": 51,
   "metadata": {},
   "outputs": [],
   "source": [
    "from typing import (\n",
    "    Dict,\n",
    "#     List,\n",
    "#     Tuple,\n",
    "#     Set,\n",
    "#     Deque,\n",
    "#     NamedTuple,\n",
    "#     IO,\n",
    "#     Pattern,\n",
    "#     Match,\n",
    "#     Text,\n",
    "#     Optional,\n",
    "#     Sequence,\n",
    "#     Iterable,\n",
    "#     Mapping,\n",
    "#     MutableMapping,\n",
    "#     Any,\n",
    ")"
   ]
  },
  {
   "cell_type": "code",
   "execution_count": 3,
   "metadata": {},
   "outputs": [],
   "source": [
    "def ensure_dir_exists(DIR_PATH):\n",
    "    if not os.path.isdir(DIR_PATH):\n",
    "        os.makedirs(DIR_PATH)\n",
    "        \n",
    "def freq_label_selector(freq):\n",
    "    if freq.lower() == 'm':\n",
    "        return 'Month'\n",
    "    elif freq.lower() == 'q':\n",
    "        return 'Quarter'\n",
    "    else:\n",
    "        return 'Year'"
   ]
  },
  {
   "cell_type": "code",
   "execution_count": 4,
   "metadata": {},
   "outputs": [],
   "source": [
    "def get_nypd_data_table_urls():\n",
    "    YAML_DIR = os.path.join('..', 'yaml_files')\n",
    "    ensure_dir_exists(YAML_DIR)\n",
    "    yaml_path = os.path.join(YAML_DIR, 'nypd_data_urls.yaml')\n",
    "    \n",
    "    if not os.path.isfile(yaml_path):\n",
    "        print('Making first yaml data file')\n",
    "        # Initial data load\n",
    "        nyc_data_urls = {\n",
    "            'nypd_shooting_historic':'https://data.cityofnewyork.us/api/views/833y-fsy8/rows.csv?accessType=DOWNLOAD',\n",
    "            'nypd_shooting_ytd':'https://data.cityofnewyork.us/api/views/5ucz-vwe8/rows.csv?accessType=DOWNLOAD',\n",
    "            'nypd_arrest_historic':'https://data.cityofnewyork.us/api/views/8h9b-rp9u/rows.csv?accessType=DOWNLOAD',\n",
    "            'nypd_arrest_ytd':'https://data.cityofnewyork.us/api/views/uip8-fykc/rows.csv?accessType=DOWNLOAD',\n",
    "            'nypd_complaint_historic':'https://data.cityofnewyork.us/api/views/qgea-i56i/rows.csv?accessType=DOWNLOAD',\n",
    "            'nypd_complaint_ytd':'https://data.cityofnewyork.us/api/views/5uac-w243/rows.csv?accessType=DOWNLOAD',\n",
    "        }\n",
    "        yaml.dump(data=nyc_data_urls, stream=open(yaml_path, 'w'))\n",
    "    nyc_data_urls = yaml.load(stream=open(os.path.join(yaml_path), 'r'), Loader=yaml.FullLoader)\n",
    "    return nyc_data_urls"
   ]
  },
  {
   "cell_type": "code",
   "execution_count": 5,
   "metadata": {},
   "outputs": [],
   "source": [
    "nyc_data_urls = get_nypd_data_table_urls()"
   ]
  },
  {
   "cell_type": "code",
   "execution_count": 6,
   "metadata": {},
   "outputs": [
    {
     "data": {
      "text/plain": [
       "{'nypd_arrest_historic': 'https://data.cityofnewyork.us/api/views/8h9b-rp9u/rows.csv?accessType=DOWNLOAD',\n",
       " 'nypd_arrest_ytd': 'https://data.cityofnewyork.us/api/views/uip8-fykc/rows.csv?accessType=DOWNLOAD',\n",
       " 'nypd_complaint_historic': 'https://data.cityofnewyork.us/api/views/qgea-i56i/rows.csv?accessType=DOWNLOAD',\n",
       " 'nypd_complaint_ytd': 'https://data.cityofnewyork.us/api/views/5uac-w243/rows.csv?accessType=DOWNLOAD',\n",
       " 'nypd_shooting_historic': 'https://data.cityofnewyork.us/api/views/833y-fsy8/rows.csv?accessType=DOWNLOAD',\n",
       " 'nypd_shooting_ytd': 'https://data.cityofnewyork.us/api/views/5ucz-vwe8/rows.csv?accessType=DOWNLOAD'}"
      ]
     },
     "execution_count": 6,
     "metadata": {},
     "output_type": "execute_result"
    }
   ],
   "source": [
    "nyc_data_urls"
   ]
  },
  {
   "cell_type": "code",
   "execution_count": 7,
   "metadata": {},
   "outputs": [],
   "source": [
    "def get_age_of_data_pull(data_table_name: str, DATA_DIR: str = DATA_DIR, VERBOSE: bool = False) -> float:\n",
    "    \"\"\" Checks to the raw_data file of the most recent data pull. If it exists, it returns\n",
    "    the age of the file in days. If it doesn't exist, it returns 36500 days. \"\"\"\n",
    "    dir_path = os.path.join(DATA_DIR)\n",
    "    file_path = os.path.join(dir_path, f\"{data_table_name}.csv\")\n",
    "    ensure_dir_exists(dir_path)\n",
    "    if (os.path.isfile(file_path)):\n",
    "        file_datetime = datetime.fromtimestamp(os.path.getmtime(file_path))\n",
    "        file_age = ((datetime.now() - file_datetime).seconds) / (24 * 60 * 60)\n",
    "    else:\n",
    "        file_age = 100 * 365\n",
    "    if VERBOSE: \n",
    "        print(f\"{file_age} (days)\")\n",
    "        print(f\"{file_age / 365} (years)\")\n",
    "    return file_age"
   ]
  },
  {
   "cell_type": "code",
   "execution_count": 8,
   "metadata": {},
   "outputs": [
    {
     "data": {
      "text/plain": [
       "0.9603472222222222"
      ]
     },
     "execution_count": 8,
     "metadata": {},
     "output_type": "execute_result"
    }
   ],
   "source": [
    "get_age_of_data_pull(data_table_name = 'nypd_shooting_historic')"
   ]
  },
  {
   "cell_type": "code",
   "execution_count": 16,
   "metadata": {},
   "outputs": [],
   "source": [
    "def pull_raw_data_table(data_table_name: str, max_days_before_update: int = 7, \n",
    "                        DATA_DIR: str = DATA_DIR) -> None:\n",
    "    data_urls = get_nypd_data_table_urls()\n",
    "    if data_table_name in data_urls.keys():\n",
    "        file_path = os.path.join(DATA_DIR, f'{data_table_name}.csv')\n",
    "        file_age = get_age_of_data_pull(data_table_name = data_table_name)\n",
    "        if file_age > max_days_before_update:\n",
    "            urlretrieve(data_urls[data_table_name], file_path)\n",
    "            print(f\"{data_table_name} data successfully downloaded\")\n",
    "        else:\n",
    "            print(f\"{data_table_name} was pulled {round(file_age, 2)} days ago.\")\n",
    "            print(f\"Reduce the max_days_before_update parameter (currently {max_days_before_update} days) to pull now.\")\n",
    "    else:\n",
    "        print(f'No known URL for the (alleged) data table with the name {data_table_name}.')"
   ]
  },
  {
   "cell_type": "code",
   "execution_count": 17,
   "metadata": {},
   "outputs": [
    {
     "name": "stdout",
     "output_type": "stream",
     "text": [
      "nypd_shooting_historic was pulled 0.96 days ago.\n",
      "Reduce the max_days_before_update parameter (currently 7 days) to pull now.\n"
     ]
    }
   ],
   "source": [
    "pull_raw_data_table(data_table_name = 'nypd_shooting_historic')"
   ]
  },
  {
   "cell_type": "code",
   "execution_count": 18,
   "metadata": {},
   "outputs": [
    {
     "name": "stdout",
     "output_type": "stream",
     "text": [
      "nypd_shooting_ytd was pulled 0.96 days ago.\n",
      "Reduce the max_days_before_update parameter (currently 7 days) to pull now.\n"
     ]
    }
   ],
   "source": [
    "pull_raw_data_table(data_table_name = 'nypd_shooting_ytd')"
   ]
  },
  {
   "cell_type": "code",
   "execution_count": 19,
   "metadata": {},
   "outputs": [
    {
     "name": "stdout",
     "output_type": "stream",
     "text": [
      "nypd_arrest_historic was pulled 0.96 days ago.\n",
      "Reduce the max_days_before_update parameter (currently 7 days) to pull now.\n"
     ]
    }
   ],
   "source": [
    "pull_raw_data_table(data_table_name = 'nypd_arrest_historic')"
   ]
  },
  {
   "cell_type": "code",
   "execution_count": 20,
   "metadata": {},
   "outputs": [
    {
     "name": "stdout",
     "output_type": "stream",
     "text": [
      "nypd_arrest_ytd was pulled 0.96 days ago.\n",
      "Reduce the max_days_before_update parameter (currently 7 days) to pull now.\n"
     ]
    }
   ],
   "source": [
    "pull_raw_data_table(data_table_name = 'nypd_arrest_ytd')"
   ]
  },
  {
   "cell_type": "code",
   "execution_count": 21,
   "metadata": {},
   "outputs": [
    {
     "name": "stdout",
     "output_type": "stream",
     "text": [
      "nypd_complaint_historic was pulled 0.94 days ago.\n",
      "Reduce the max_days_before_update parameter (currently 7 days) to pull now.\n"
     ]
    }
   ],
   "source": [
    "pull_raw_data_table(data_table_name = 'nypd_complaint_historic')"
   ]
  },
  {
   "cell_type": "code",
   "execution_count": 22,
   "metadata": {},
   "outputs": [
    {
     "name": "stdout",
     "output_type": "stream",
     "text": [
      "nypd_complaint_ytd data successfully downloaded\n"
     ]
    }
   ],
   "source": [
    "pull_raw_data_table(data_table_name = 'nypd_complaint_ytd')"
   ]
  },
  {
   "cell_type": "code",
   "execution_count": 23,
   "metadata": {},
   "outputs": [],
   "source": [
    "def load_data_table(data_table_name: str, DATA_DIR: str = DATA_DIR) -> pd.DataFrame:\n",
    "    data_urls = get_nypd_data_table_urls()\n",
    "    if data_table_name in data_urls.keys():\n",
    "        file_path = os.path.join(DATA_DIR, f'{data_table_name}.csv')\n",
    "        if os.path.isfile(file_path):\n",
    "            return pd.read_csv(file_path)\n",
    "        else:\n",
    "            print(f\"{data_table_name} hasn't been pulled. Call pull_raw_data_table() then retry.\")\n",
    "    else:\n",
    "        print(f'No known URL or file for the (alleged) data table with the name {data_table_name}.')    "
   ]
  },
  {
   "cell_type": "code",
   "execution_count": null,
   "metadata": {},
   "outputs": [],
   "source": [
    "arrest_dtypes = {\n",
    "    'ARREST_KEY':str, \n",
    "    'PD_CD':str, \n",
    "    'PD_DESC':str, \n",
    "    'KY_CD':str, \n",
    "    'ARREST_PRECINCT':str,\n",
    "    'JURISDICTION_CODE':str\n",
    "}"
   ]
  },
  {
   "cell_type": "code",
   "execution_count": 63,
   "metadata": {},
   "outputs": [],
   "source": [
    "def get_nypd_data_table_dtypes(data_table_name: str) -> Dict:\n",
    "    YAML_DIR = os.path.join('..', 'yaml_files')\n",
    "    ensure_dir_exists(YAML_DIR)\n",
    "    yaml_path = os.path.join(YAML_DIR, 'nypd_data_table_dtypes.yaml')\n",
    "    \n",
    "    if not os.path.isfile(yaml_path):\n",
    "        print('Making first yaml data file')\n",
    "        # Initial data load\n",
    "        nyc_data_dtypes = {\n",
    "            'arrest_dtypes':{\n",
    "                'ARREST_KEY':str, \n",
    "                'PD_CD':str, \n",
    "                'PD_DESC':str, \n",
    "                'KY_CD':str, \n",
    "                'ARREST_PRECINCT':str,\n",
    "                'JURISDICTION_CODE':str\n",
    "            }\n",
    "        }        \n",
    "        yaml.dump(data=nyc_data_dtypes, stream=open(yaml_path, 'w+'))\n",
    "    nyc_data_dtypes = yaml.load(stream=open(os.path.join(yaml_path), 'r'), Loader=yaml.FullLoader)\n",
    "    dtype_map = get_nypd_data_table_dtype_map(data_table_name=data_table_name)\n",
    "    return nyc_data_dtypes[dtype_map[data_table_name]]"
   ]
  },
  {
   "cell_type": "code",
   "execution_count": 58,
   "metadata": {},
   "outputs": [],
   "source": [
    "def get_nypd_data_table_dtype_map(data_table_name: str) -> Dict:\n",
    "    YAML_DIR = os.path.join('..', 'yaml_files')\n",
    "    ensure_dir_exists(YAML_DIR)\n",
    "    yaml_path = os.path.join(YAML_DIR, 'nypd_data_table_dtype_map.yaml')\n",
    "    \n",
    "    if not os.path.isfile(yaml_path):\n",
    "        print('Making first yaml data file')\n",
    "        # Initial data load\n",
    "        nyc_table_dtype_map = {\n",
    "            'nypd_arrest_historic':'arrest_dtypes',\n",
    "            'nypd_arrest_ytd':'arrest_dtypes',\n",
    "            'nypd_complaint_historic':'complaint_dtypes',\n",
    "            'nypd_complaint_ytd':'complaint_dtypes',\n",
    "            'nypd_shooting_historic':'shooting_dtypes',\n",
    "            'nypd_shooting_ytd':'shooting_dtypes',                \n",
    "        }\n",
    "        yaml.dump(data=nyc_table_dtype_map, stream=open(yaml_path, 'w+'))\n",
    "    nyc_table_dtype_map = yaml.load(stream=open(os.path.join(yaml_path), 'r'), Loader=yaml.FullLoader)\n",
    "    return nyc_table_dtype_map"
   ]
  },
  {
   "cell_type": "code",
   "execution_count": 6,
   "metadata": {},
   "outputs": [
    {
     "data": {
      "text/plain": [
       "{'nypd_arrest_historic': 'https://data.cityofnewyork.us/api/views/8h9b-rp9u/rows.csv?accessType=DOWNLOAD',\n",
       " 'nypd_arrest_ytd': 'https://data.cityofnewyork.us/api/views/uip8-fykc/rows.csv?accessType=DOWNLOAD',\n",
       " 'nypd_complaint_historic': 'https://data.cityofnewyork.us/api/views/qgea-i56i/rows.csv?accessType=DOWNLOAD',\n",
       " 'nypd_complaint_ytd': 'https://data.cityofnewyork.us/api/views/5uac-w243/rows.csv?accessType=DOWNLOAD',\n",
       " 'nypd_shooting_historic': 'https://data.cityofnewyork.us/api/views/833y-fsy8/rows.csv?accessType=DOWNLOAD',\n",
       " 'nypd_shooting_ytd': 'https://data.cityofnewyork.us/api/views/5ucz-vwe8/rows.csv?accessType=DOWNLOAD'}"
      ]
     },
     "execution_count": 6,
     "metadata": {},
     "output_type": "execute_result"
    }
   ],
   "source": [
    "nyc_data_urls"
   ]
  },
  {
   "cell_type": "code",
   "execution_count": 64,
   "metadata": {},
   "outputs": [
    {
     "name": "stdout",
     "output_type": "stream",
     "text": [
      "{'nypd_arrest_historic': 'arrest_dtypes', 'nypd_arrest_ytd': 'arrest_dtypes', 'nypd_complaint_historic': 'complaint_dtypes', 'nypd_complaint_ytd': 'complaint_dtypes', 'nypd_shooting_historic': 'shooting_dtypes', 'nypd_shooting_ytd': 'shooting_dtypes'}\n"
     ]
    },
    {
     "data": {
      "text/plain": [
       "{'ARREST_KEY': str,\n",
       " 'ARREST_PRECINCT': str,\n",
       " 'JURISDICTION_CODE': str,\n",
       " 'KY_CD': str,\n",
       " 'PD_CD': str,\n",
       " 'PD_DESC': str}"
      ]
     },
     "execution_count": 64,
     "metadata": {},
     "output_type": "execute_result"
    }
   ],
   "source": [
    "nyc_data_dtypes = get_nypd_data_table_dtypes(data_table_name='nypd_arrest_historic')\n",
    "nyc_data_dtypes"
   ]
  },
  {
   "cell_type": "code",
   "execution_count": 59,
   "metadata": {},
   "outputs": [
    {
     "name": "stdout",
     "output_type": "stream",
     "text": [
      "Making first yaml data file\n"
     ]
    },
    {
     "data": {
      "text/plain": [
       "{'nypd_arrest_historic': 'arrest_dtypes',\n",
       " 'nypd_arrest_ytd': 'arrest_dtypes',\n",
       " 'nypd_complaint_historic': 'complaint_dtypes',\n",
       " 'nypd_complaint_ytd': 'complaint_dtypes',\n",
       " 'nypd_shooting_historic': 'shooting_dtypes',\n",
       " 'nypd_shooting_ytd': 'shooting_dtypes'}"
      ]
     },
     "execution_count": 59,
     "metadata": {},
     "output_type": "execute_result"
    }
   ],
   "source": [
    "get_nypd_data_table_dtype_map(data_table_name = 'nypd_arrest_historic')"
   ]
  },
  {
   "cell_type": "code",
   "execution_count": 27,
   "metadata": {},
   "outputs": [],
   "source": [
    "nypd_arrest_historic_df = load_data_table(data_table_name = 'nypd_arrest_historic')"
   ]
  },
  {
   "cell_type": "code",
   "execution_count": 28,
   "metadata": {},
   "outputs": [],
   "source": [
    "nypd_arrest_ytd_df = load_data_table(data_table_name = 'nypd_arrest_ytd')"
   ]
  },
  {
   "cell_type": "code",
   "execution_count": 29,
   "metadata": {},
   "outputs": [
    {
     "data": {
      "text/html": [
       "<div>\n",
       "<style scoped>\n",
       "    .dataframe tbody tr th:only-of-type {\n",
       "        vertical-align: middle;\n",
       "    }\n",
       "\n",
       "    .dataframe tbody tr th {\n",
       "        vertical-align: top;\n",
       "    }\n",
       "\n",
       "    .dataframe thead th {\n",
       "        text-align: right;\n",
       "    }\n",
       "</style>\n",
       "<table border=\"1\" class=\"dataframe\">\n",
       "  <thead>\n",
       "    <tr style=\"text-align: right;\">\n",
       "      <th></th>\n",
       "      <th>ARREST_KEY</th>\n",
       "      <th>ARREST_DATE</th>\n",
       "      <th>PD_CD</th>\n",
       "      <th>PD_DESC</th>\n",
       "      <th>KY_CD</th>\n",
       "      <th>OFNS_DESC</th>\n",
       "      <th>LAW_CODE</th>\n",
       "      <th>LAW_CAT_CD</th>\n",
       "      <th>ARREST_BORO</th>\n",
       "      <th>ARREST_PRECINCT</th>\n",
       "      <th>JURISDICTION_CODE</th>\n",
       "      <th>AGE_GROUP</th>\n",
       "      <th>PERP_SEX</th>\n",
       "      <th>PERP_RACE</th>\n",
       "      <th>X_COORD_CD</th>\n",
       "      <th>Y_COORD_CD</th>\n",
       "      <th>Latitude</th>\n",
       "      <th>Longitude</th>\n",
       "      <th>Lon_Lat</th>\n",
       "    </tr>\n",
       "  </thead>\n",
       "  <tbody>\n",
       "    <tr>\n",
       "      <th>0</th>\n",
       "      <td>144026181</td>\n",
       "      <td>06/26/2015</td>\n",
       "      <td>639.0</td>\n",
       "      <td>AGGRAVATED HARASSMENT 2</td>\n",
       "      <td>361.0</td>\n",
       "      <td>OFF. AGNST PUB ORD SENSBLTY &amp; RGHTS TO PRIV</td>\n",
       "      <td>PL 2403002</td>\n",
       "      <td>M</td>\n",
       "      <td>Q</td>\n",
       "      <td>102</td>\n",
       "      <td>0.0</td>\n",
       "      <td>45-64</td>\n",
       "      <td>M</td>\n",
       "      <td>WHITE HISPANIC</td>\n",
       "      <td>1031076.0</td>\n",
       "      <td>193779.0</td>\n",
       "      <td>40.698440</td>\n",
       "      <td>-73.831130</td>\n",
       "      <td>POINT (-73.83112953899997 40.69843969400005)</td>\n",
       "    </tr>\n",
       "    <tr>\n",
       "      <th>1</th>\n",
       "      <td>144507595</td>\n",
       "      <td>07/14/2015</td>\n",
       "      <td>969.0</td>\n",
       "      <td>TRAFFIC,UNCLASSIFIED INFRACTION</td>\n",
       "      <td>881.0</td>\n",
       "      <td>OTHER TRAFFIC INFRACTION</td>\n",
       "      <td>VTL051101A</td>\n",
       "      <td>M</td>\n",
       "      <td>M</td>\n",
       "      <td>10</td>\n",
       "      <td>3.0</td>\n",
       "      <td>25-44</td>\n",
       "      <td>M</td>\n",
       "      <td>WHITE HISPANIC</td>\n",
       "      <td>984791.0</td>\n",
       "      <td>209846.0</td>\n",
       "      <td>40.742664</td>\n",
       "      <td>-73.998049</td>\n",
       "      <td>POINT (-73.99804910799998 40.74266360800004)</td>\n",
       "    </tr>\n",
       "  </tbody>\n",
       "</table>\n",
       "</div>"
      ],
      "text/plain": [
       "   ARREST_KEY ARREST_DATE  PD_CD                          PD_DESC  KY_CD  \\\n",
       "0   144026181  06/26/2015  639.0          AGGRAVATED HARASSMENT 2  361.0   \n",
       "1   144507595  07/14/2015  969.0  TRAFFIC,UNCLASSIFIED INFRACTION  881.0   \n",
       "\n",
       "                                     OFNS_DESC    LAW_CODE LAW_CAT_CD  \\\n",
       "0  OFF. AGNST PUB ORD SENSBLTY & RGHTS TO PRIV  PL 2403002          M   \n",
       "1                     OTHER TRAFFIC INFRACTION  VTL051101A          M   \n",
       "\n",
       "  ARREST_BORO  ARREST_PRECINCT  JURISDICTION_CODE AGE_GROUP PERP_SEX  \\\n",
       "0           Q              102                0.0     45-64        M   \n",
       "1           M               10                3.0     25-44        M   \n",
       "\n",
       "        PERP_RACE  X_COORD_CD  Y_COORD_CD   Latitude  Longitude  \\\n",
       "0  WHITE HISPANIC   1031076.0    193779.0  40.698440 -73.831130   \n",
       "1  WHITE HISPANIC    984791.0    209846.0  40.742664 -73.998049   \n",
       "\n",
       "                                        Lon_Lat  \n",
       "0  POINT (-73.83112953899997 40.69843969400005)  \n",
       "1  POINT (-73.99804910799998 40.74266360800004)  "
      ]
     },
     "execution_count": 29,
     "metadata": {},
     "output_type": "execute_result"
    }
   ],
   "source": [
    "nypd_arrest_historic_df.head(2)"
   ]
  },
  {
   "cell_type": "code",
   "execution_count": 30,
   "metadata": {},
   "outputs": [
    {
     "data": {
      "text/html": [
       "<div>\n",
       "<style scoped>\n",
       "    .dataframe tbody tr th:only-of-type {\n",
       "        vertical-align: middle;\n",
       "    }\n",
       "\n",
       "    .dataframe tbody tr th {\n",
       "        vertical-align: top;\n",
       "    }\n",
       "\n",
       "    .dataframe thead th {\n",
       "        text-align: right;\n",
       "    }\n",
       "</style>\n",
       "<table border=\"1\" class=\"dataframe\">\n",
       "  <thead>\n",
       "    <tr style=\"text-align: right;\">\n",
       "      <th></th>\n",
       "      <th>ARREST_KEY</th>\n",
       "      <th>ARREST_DATE</th>\n",
       "      <th>PD_CD</th>\n",
       "      <th>PD_DESC</th>\n",
       "      <th>KY_CD</th>\n",
       "      <th>OFNS_DESC</th>\n",
       "      <th>LAW_CODE</th>\n",
       "      <th>LAW_CAT_CD</th>\n",
       "      <th>ARREST_BORO</th>\n",
       "      <th>ARREST_PRECINCT</th>\n",
       "      <th>JURISDICTION_CODE</th>\n",
       "      <th>AGE_GROUP</th>\n",
       "      <th>PERP_SEX</th>\n",
       "      <th>PERP_RACE</th>\n",
       "      <th>X_COORD_CD</th>\n",
       "      <th>Y_COORD_CD</th>\n",
       "      <th>Latitude</th>\n",
       "      <th>Longitude</th>\n",
       "      <th>New Georeferenced Column</th>\n",
       "    </tr>\n",
       "  </thead>\n",
       "  <tbody>\n",
       "    <tr>\n",
       "      <th>0</th>\n",
       "      <td>210514390</td>\n",
       "      <td>03/04/2020</td>\n",
       "      <td>168.0</td>\n",
       "      <td>SODOMY 1</td>\n",
       "      <td>116.0</td>\n",
       "      <td>SEX CRIMES</td>\n",
       "      <td>PL 1305001</td>\n",
       "      <td>F</td>\n",
       "      <td>M</td>\n",
       "      <td>10</td>\n",
       "      <td>0</td>\n",
       "      <td>25-44</td>\n",
       "      <td>M</td>\n",
       "      <td>WHITE</td>\n",
       "      <td>984623</td>\n",
       "      <td>209859</td>\n",
       "      <td>40.742699</td>\n",
       "      <td>-73.998655</td>\n",
       "      <td>POINT (-73.99865537999995 40.74269929900004)</td>\n",
       "    </tr>\n",
       "    <tr>\n",
       "      <th>1</th>\n",
       "      <td>210932725</td>\n",
       "      <td>03/11/2020</td>\n",
       "      <td>177.0</td>\n",
       "      <td>SEXUAL ABUSE</td>\n",
       "      <td>116.0</td>\n",
       "      <td>SEX CRIMES</td>\n",
       "      <td>PL 1306501</td>\n",
       "      <td>F</td>\n",
       "      <td>Q</td>\n",
       "      <td>113</td>\n",
       "      <td>0</td>\n",
       "      <td>25-44</td>\n",
       "      <td>F</td>\n",
       "      <td>WHITE</td>\n",
       "      <td>1046367</td>\n",
       "      <td>186986</td>\n",
       "      <td>40.679700</td>\n",
       "      <td>-73.776047</td>\n",
       "      <td>POINT (-73.77604736799998 40.67970040800003)</td>\n",
       "    </tr>\n",
       "  </tbody>\n",
       "</table>\n",
       "</div>"
      ],
      "text/plain": [
       "   ARREST_KEY ARREST_DATE  PD_CD       PD_DESC  KY_CD   OFNS_DESC    LAW_CODE  \\\n",
       "0   210514390  03/04/2020  168.0      SODOMY 1  116.0  SEX CRIMES  PL 1305001   \n",
       "1   210932725  03/11/2020  177.0  SEXUAL ABUSE  116.0  SEX CRIMES  PL 1306501   \n",
       "\n",
       "  LAW_CAT_CD ARREST_BORO  ARREST_PRECINCT  JURISDICTION_CODE AGE_GROUP  \\\n",
       "0          F           M               10                  0     25-44   \n",
       "1          F           Q              113                  0     25-44   \n",
       "\n",
       "  PERP_SEX PERP_RACE  X_COORD_CD  Y_COORD_CD   Latitude  Longitude  \\\n",
       "0        M     WHITE      984623      209859  40.742699 -73.998655   \n",
       "1        F     WHITE     1046367      186986  40.679700 -73.776047   \n",
       "\n",
       "                       New Georeferenced Column  \n",
       "0  POINT (-73.99865537999995 40.74269929900004)  \n",
       "1  POINT (-73.77604736799998 40.67970040800003)  "
      ]
     },
     "execution_count": 30,
     "metadata": {},
     "output_type": "execute_result"
    }
   ],
   "source": [
    "nypd_arrest_ytd_df.head(2)"
   ]
  },
  {
   "cell_type": "code",
   "execution_count": 35,
   "metadata": {},
   "outputs": [
    {
     "data": {
      "text/plain": [
       "[True,\n",
       " True,\n",
       " True,\n",
       " True,\n",
       " True,\n",
       " True,\n",
       " True,\n",
       " True,\n",
       " True,\n",
       " True,\n",
       " True,\n",
       " True,\n",
       " True,\n",
       " True,\n",
       " True,\n",
       " True,\n",
       " True,\n",
       " True,\n",
       " False]"
      ]
     },
     "execution_count": 35,
     "metadata": {},
     "output_type": "execute_result"
    }
   ],
   "source": [
    "[hist_col == ytd_call for hist_col, ytd_call in zip(nypd_arrest_historic_df, nypd_arrest_ytd_df)]"
   ]
  },
  {
   "cell_type": "code",
   "execution_count": 42,
   "metadata": {},
   "outputs": [],
   "source": [
    "nypd_arrest_ytd_df.columns = nypd_arrest_historic_df.columns\n",
    "nypd_arrest_df = pd.concat([nypd_arrest_historic_df, nypd_arrest_ytd_df])\n",
    "nypd_arrest_df.reset_index(drop=True, inplace=True)"
   ]
  },
  {
   "cell_type": "code",
   "execution_count": 43,
   "metadata": {},
   "outputs": [
    {
     "data": {
      "text/html": [
       "<div>\n",
       "<style scoped>\n",
       "    .dataframe tbody tr th:only-of-type {\n",
       "        vertical-align: middle;\n",
       "    }\n",
       "\n",
       "    .dataframe tbody tr th {\n",
       "        vertical-align: top;\n",
       "    }\n",
       "\n",
       "    .dataframe thead th {\n",
       "        text-align: right;\n",
       "    }\n",
       "</style>\n",
       "<table border=\"1\" class=\"dataframe\">\n",
       "  <thead>\n",
       "    <tr style=\"text-align: right;\">\n",
       "      <th></th>\n",
       "      <th>ARREST_KEY</th>\n",
       "      <th>ARREST_DATE</th>\n",
       "      <th>PD_CD</th>\n",
       "      <th>PD_DESC</th>\n",
       "      <th>KY_CD</th>\n",
       "      <th>OFNS_DESC</th>\n",
       "      <th>LAW_CODE</th>\n",
       "      <th>LAW_CAT_CD</th>\n",
       "      <th>ARREST_BORO</th>\n",
       "      <th>ARREST_PRECINCT</th>\n",
       "      <th>JURISDICTION_CODE</th>\n",
       "      <th>AGE_GROUP</th>\n",
       "      <th>PERP_SEX</th>\n",
       "      <th>PERP_RACE</th>\n",
       "      <th>X_COORD_CD</th>\n",
       "      <th>Y_COORD_CD</th>\n",
       "      <th>Latitude</th>\n",
       "      <th>Longitude</th>\n",
       "      <th>Lon_Lat</th>\n",
       "    </tr>\n",
       "  </thead>\n",
       "  <tbody>\n",
       "    <tr>\n",
       "      <th>0</th>\n",
       "      <td>144026181</td>\n",
       "      <td>06/26/2015</td>\n",
       "      <td>639.0</td>\n",
       "      <td>AGGRAVATED HARASSMENT 2</td>\n",
       "      <td>361.0</td>\n",
       "      <td>OFF. AGNST PUB ORD SENSBLTY &amp; RGHTS TO PRIV</td>\n",
       "      <td>PL 2403002</td>\n",
       "      <td>M</td>\n",
       "      <td>Q</td>\n",
       "      <td>102</td>\n",
       "      <td>0.0</td>\n",
       "      <td>45-64</td>\n",
       "      <td>M</td>\n",
       "      <td>WHITE HISPANIC</td>\n",
       "      <td>1031076.0</td>\n",
       "      <td>193779.0</td>\n",
       "      <td>40.698440</td>\n",
       "      <td>-73.831130</td>\n",
       "      <td>POINT (-73.83112953899997 40.69843969400005)</td>\n",
       "    </tr>\n",
       "    <tr>\n",
       "      <th>1</th>\n",
       "      <td>144507595</td>\n",
       "      <td>07/14/2015</td>\n",
       "      <td>969.0</td>\n",
       "      <td>TRAFFIC,UNCLASSIFIED INFRACTION</td>\n",
       "      <td>881.0</td>\n",
       "      <td>OTHER TRAFFIC INFRACTION</td>\n",
       "      <td>VTL051101A</td>\n",
       "      <td>M</td>\n",
       "      <td>M</td>\n",
       "      <td>10</td>\n",
       "      <td>3.0</td>\n",
       "      <td>25-44</td>\n",
       "      <td>M</td>\n",
       "      <td>WHITE HISPANIC</td>\n",
       "      <td>984791.0</td>\n",
       "      <td>209846.0</td>\n",
       "      <td>40.742664</td>\n",
       "      <td>-73.998049</td>\n",
       "      <td>POINT (-73.99804910799998 40.74266360800004)</td>\n",
       "    </tr>\n",
       "  </tbody>\n",
       "</table>\n",
       "</div>"
      ],
      "text/plain": [
       "   ARREST_KEY ARREST_DATE  PD_CD                          PD_DESC  KY_CD  \\\n",
       "0   144026181  06/26/2015  639.0          AGGRAVATED HARASSMENT 2  361.0   \n",
       "1   144507595  07/14/2015  969.0  TRAFFIC,UNCLASSIFIED INFRACTION  881.0   \n",
       "\n",
       "                                     OFNS_DESC    LAW_CODE LAW_CAT_CD  \\\n",
       "0  OFF. AGNST PUB ORD SENSBLTY & RGHTS TO PRIV  PL 2403002          M   \n",
       "1                     OTHER TRAFFIC INFRACTION  VTL051101A          M   \n",
       "\n",
       "  ARREST_BORO  ARREST_PRECINCT  JURISDICTION_CODE AGE_GROUP PERP_SEX  \\\n",
       "0           Q              102                0.0     45-64        M   \n",
       "1           M               10                3.0     25-44        M   \n",
       "\n",
       "        PERP_RACE  X_COORD_CD  Y_COORD_CD   Latitude  Longitude  \\\n",
       "0  WHITE HISPANIC   1031076.0    193779.0  40.698440 -73.831130   \n",
       "1  WHITE HISPANIC    984791.0    209846.0  40.742664 -73.998049   \n",
       "\n",
       "                                        Lon_Lat  \n",
       "0  POINT (-73.83112953899997 40.69843969400005)  \n",
       "1  POINT (-73.99804910799998 40.74266360800004)  "
      ]
     },
     "execution_count": 43,
     "metadata": {},
     "output_type": "execute_result"
    }
   ],
   "source": [
    "nypd_arrest_df.head(2)"
   ]
  },
  {
   "cell_type": "code",
   "execution_count": 44,
   "metadata": {},
   "outputs": [],
   "source": [
    "nypd_arrest_df['ARREST_DATE'] = pd.to_datetime(nypd_arrest_df['ARREST_DATE'], format='%m/%d/%Y')"
   ]
  },
  {
   "cell_type": "code",
   "execution_count": 50,
   "metadata": {},
   "outputs": [
    {
     "data": {
      "text/plain": [
       "Index(['ARREST_KEY', 'ARREST_DATE', 'PD_CD', 'PD_DESC', 'KY_CD', 'OFNS_DESC',\n",
       "       'LAW_CODE', 'LAW_CAT_CD', 'ARREST_BORO', 'ARREST_PRECINCT',\n",
       "       'JURISDICTION_CODE', 'AGE_GROUP', 'PERP_SEX', 'PERP_RACE', 'X_COORD_CD',\n",
       "       'Y_COORD_CD', 'Latitude', 'Longitude', 'Lon_Lat'],\n",
       "      dtype='object')"
      ]
     },
     "execution_count": 50,
     "metadata": {},
     "output_type": "execute_result"
    }
   ],
   "source": [
    "nypd_arrest_df.columns"
   ]
  },
  {
   "cell_type": "code",
   "execution_count": 45,
   "metadata": {},
   "outputs": [
    {
     "data": {
      "text/html": [
       "<div>\n",
       "<style scoped>\n",
       "    .dataframe tbody tr th:only-of-type {\n",
       "        vertical-align: middle;\n",
       "    }\n",
       "\n",
       "    .dataframe tbody tr th {\n",
       "        vertical-align: top;\n",
       "    }\n",
       "\n",
       "    .dataframe thead th {\n",
       "        text-align: right;\n",
       "    }\n",
       "</style>\n",
       "<table border=\"1\" class=\"dataframe\">\n",
       "  <thead>\n",
       "    <tr style=\"text-align: right;\">\n",
       "      <th></th>\n",
       "      <th>ARREST_KEY</th>\n",
       "      <th>ARREST_DATE</th>\n",
       "      <th>PD_CD</th>\n",
       "      <th>PD_DESC</th>\n",
       "      <th>KY_CD</th>\n",
       "      <th>OFNS_DESC</th>\n",
       "      <th>LAW_CODE</th>\n",
       "      <th>LAW_CAT_CD</th>\n",
       "      <th>ARREST_BORO</th>\n",
       "      <th>ARREST_PRECINCT</th>\n",
       "      <th>JURISDICTION_CODE</th>\n",
       "      <th>AGE_GROUP</th>\n",
       "      <th>PERP_SEX</th>\n",
       "      <th>PERP_RACE</th>\n",
       "      <th>X_COORD_CD</th>\n",
       "      <th>Y_COORD_CD</th>\n",
       "      <th>Latitude</th>\n",
       "      <th>Longitude</th>\n",
       "      <th>Lon_Lat</th>\n",
       "    </tr>\n",
       "  </thead>\n",
       "  <tbody>\n",
       "    <tr>\n",
       "      <th>0</th>\n",
       "      <td>144026181</td>\n",
       "      <td>2015-06-26</td>\n",
       "      <td>639.0</td>\n",
       "      <td>AGGRAVATED HARASSMENT 2</td>\n",
       "      <td>361.0</td>\n",
       "      <td>OFF. AGNST PUB ORD SENSBLTY &amp; RGHTS TO PRIV</td>\n",
       "      <td>PL 2403002</td>\n",
       "      <td>M</td>\n",
       "      <td>Q</td>\n",
       "      <td>102</td>\n",
       "      <td>0.0</td>\n",
       "      <td>45-64</td>\n",
       "      <td>M</td>\n",
       "      <td>WHITE HISPANIC</td>\n",
       "      <td>1031076.0</td>\n",
       "      <td>193779.0</td>\n",
       "      <td>40.698440</td>\n",
       "      <td>-73.831130</td>\n",
       "      <td>POINT (-73.83112953899997 40.69843969400005)</td>\n",
       "    </tr>\n",
       "    <tr>\n",
       "      <th>1</th>\n",
       "      <td>144507595</td>\n",
       "      <td>2015-07-14</td>\n",
       "      <td>969.0</td>\n",
       "      <td>TRAFFIC,UNCLASSIFIED INFRACTION</td>\n",
       "      <td>881.0</td>\n",
       "      <td>OTHER TRAFFIC INFRACTION</td>\n",
       "      <td>VTL051101A</td>\n",
       "      <td>M</td>\n",
       "      <td>M</td>\n",
       "      <td>10</td>\n",
       "      <td>3.0</td>\n",
       "      <td>25-44</td>\n",
       "      <td>M</td>\n",
       "      <td>WHITE HISPANIC</td>\n",
       "      <td>984791.0</td>\n",
       "      <td>209846.0</td>\n",
       "      <td>40.742664</td>\n",
       "      <td>-73.998049</td>\n",
       "      <td>POINT (-73.99804910799998 40.74266360800004)</td>\n",
       "    </tr>\n",
       "  </tbody>\n",
       "</table>\n",
       "</div>"
      ],
      "text/plain": [
       "   ARREST_KEY ARREST_DATE  PD_CD                          PD_DESC  KY_CD  \\\n",
       "0   144026181  2015-06-26  639.0          AGGRAVATED HARASSMENT 2  361.0   \n",
       "1   144507595  2015-07-14  969.0  TRAFFIC,UNCLASSIFIED INFRACTION  881.0   \n",
       "\n",
       "                                     OFNS_DESC    LAW_CODE LAW_CAT_CD  \\\n",
       "0  OFF. AGNST PUB ORD SENSBLTY & RGHTS TO PRIV  PL 2403002          M   \n",
       "1                     OTHER TRAFFIC INFRACTION  VTL051101A          M   \n",
       "\n",
       "  ARREST_BORO  ARREST_PRECINCT  JURISDICTION_CODE AGE_GROUP PERP_SEX  \\\n",
       "0           Q              102                0.0     45-64        M   \n",
       "1           M               10                3.0     25-44        M   \n",
       "\n",
       "        PERP_RACE  X_COORD_CD  Y_COORD_CD   Latitude  Longitude  \\\n",
       "0  WHITE HISPANIC   1031076.0    193779.0  40.698440 -73.831130   \n",
       "1  WHITE HISPANIC    984791.0    209846.0  40.742664 -73.998049   \n",
       "\n",
       "                                        Lon_Lat  \n",
       "0  POINT (-73.83112953899997 40.69843969400005)  \n",
       "1  POINT (-73.99804910799998 40.74266360800004)  "
      ]
     },
     "execution_count": 45,
     "metadata": {},
     "output_type": "execute_result"
    }
   ],
   "source": [
    "nypd_arrest_df.head(2)"
   ]
  },
  {
   "cell_type": "code",
   "execution_count": 46,
   "metadata": {},
   "outputs": [
    {
     "name": "stdout",
     "output_type": "stream",
     "text": [
      "<class 'pandas.core.frame.DataFrame'>\n",
      "RangeIndex: 5087740 entries, 0 to 5087739\n",
      "Data columns (total 19 columns):\n",
      " #   Column             Dtype         \n",
      "---  ------             -----         \n",
      " 0   ARREST_KEY         int64         \n",
      " 1   ARREST_DATE        datetime64[ns]\n",
      " 2   PD_CD              float64       \n",
      " 3   PD_DESC            object        \n",
      " 4   KY_CD              float64       \n",
      " 5   OFNS_DESC          object        \n",
      " 6   LAW_CODE           object        \n",
      " 7   LAW_CAT_CD         object        \n",
      " 8   ARREST_BORO        object        \n",
      " 9   ARREST_PRECINCT    int64         \n",
      " 10  JURISDICTION_CODE  float64       \n",
      " 11  AGE_GROUP          object        \n",
      " 12  PERP_SEX           object        \n",
      " 13  PERP_RACE          object        \n",
      " 14  X_COORD_CD         float64       \n",
      " 15  Y_COORD_CD         float64       \n",
      " 16  Latitude           float64       \n",
      " 17  Longitude          float64       \n",
      " 18  Lon_Lat            object        \n",
      "dtypes: datetime64[ns](1), float64(7), int64(2), object(9)\n",
      "memory usage: 737.5+ MB\n"
     ]
    }
   ],
   "source": [
    "nypd_arrest_df.info()"
   ]
  },
  {
   "cell_type": "code",
   "execution_count": 47,
   "metadata": {},
   "outputs": [
    {
     "data": {
      "text/plain": [
       "269"
      ]
     },
     "execution_count": 47,
     "metadata": {},
     "output_type": "execute_result"
    }
   ],
   "source": [
    "nypd_arrest_df['PD_CD'].isnull().sum()"
   ]
  },
  {
   "cell_type": "code",
   "execution_count": 49,
   "metadata": {},
   "outputs": [
    {
     "data": {
      "text/plain": [
       "567.0    423472\n",
       "101.0    409627\n",
       "478.0    308145\n",
       "511.0    289208\n",
       "849.0    226941\n",
       "          ...  \n",
       "713.0         1\n",
       "790.0         1\n",
       "631.0         1\n",
       "600.0         1\n",
       "178.0         1\n",
       "Name: PD_CD, Length: 335, dtype: int64"
      ]
     },
     "execution_count": 49,
     "metadata": {},
     "output_type": "execute_result"
    }
   ],
   "source": [
    "nypd_arrest_df['PD_CD'].value_counts(dropna=False)"
   ]
  },
  {
   "cell_type": "code",
   "execution_count": 48,
   "metadata": {},
   "outputs": [
    {
     "data": {
      "text/html": [
       "<div>\n",
       "<style scoped>\n",
       "    .dataframe tbody tr th:only-of-type {\n",
       "        vertical-align: middle;\n",
       "    }\n",
       "\n",
       "    .dataframe tbody tr th {\n",
       "        vertical-align: top;\n",
       "    }\n",
       "\n",
       "    .dataframe thead th {\n",
       "        text-align: right;\n",
       "    }\n",
       "</style>\n",
       "<table border=\"1\" class=\"dataframe\">\n",
       "  <thead>\n",
       "    <tr style=\"text-align: right;\">\n",
       "      <th></th>\n",
       "      <th>ARREST_KEY</th>\n",
       "      <th>ARREST_DATE</th>\n",
       "      <th>PD_CD</th>\n",
       "      <th>PD_DESC</th>\n",
       "      <th>KY_CD</th>\n",
       "      <th>OFNS_DESC</th>\n",
       "      <th>LAW_CODE</th>\n",
       "      <th>LAW_CAT_CD</th>\n",
       "      <th>ARREST_BORO</th>\n",
       "      <th>ARREST_PRECINCT</th>\n",
       "      <th>JURISDICTION_CODE</th>\n",
       "      <th>AGE_GROUP</th>\n",
       "      <th>PERP_SEX</th>\n",
       "      <th>PERP_RACE</th>\n",
       "      <th>X_COORD_CD</th>\n",
       "      <th>Y_COORD_CD</th>\n",
       "      <th>Latitude</th>\n",
       "      <th>Longitude</th>\n",
       "      <th>Lon_Lat</th>\n",
       "    </tr>\n",
       "  </thead>\n",
       "  <tbody>\n",
       "    <tr>\n",
       "      <th>991</th>\n",
       "      <td>10837169</td>\n",
       "      <td>2006-04-02</td>\n",
       "      <td>NaN</td>\n",
       "      <td>NaN</td>\n",
       "      <td>NaN</td>\n",
       "      <td>NaN</td>\n",
       "      <td>NaN</td>\n",
       "      <td>NaN</td>\n",
       "      <td>Q</td>\n",
       "      <td>101</td>\n",
       "      <td>0.0</td>\n",
       "      <td>NaN</td>\n",
       "      <td>M</td>\n",
       "      <td>BLACK</td>\n",
       "      <td>1051775.0</td>\n",
       "      <td>159727.0</td>\n",
       "      <td>40.604841</td>\n",
       "      <td>-73.756823</td>\n",
       "      <td>POINT (-73.75682250899997 40.604840985000074)</td>\n",
       "    </tr>\n",
       "    <tr>\n",
       "      <th>7932</th>\n",
       "      <td>189850062</td>\n",
       "      <td>2018-11-11</td>\n",
       "      <td>NaN</td>\n",
       "      <td>NaN</td>\n",
       "      <td>NaN</td>\n",
       "      <td>NaN</td>\n",
       "      <td>NaN</td>\n",
       "      <td>NaN</td>\n",
       "      <td>K</td>\n",
       "      <td>73</td>\n",
       "      <td>97.0</td>\n",
       "      <td>25-44</td>\n",
       "      <td>M</td>\n",
       "      <td>BLACK</td>\n",
       "      <td>1010482.0</td>\n",
       "      <td>185602.0</td>\n",
       "      <td>40.676081</td>\n",
       "      <td>-73.905431</td>\n",
       "      <td>POINT (-73.90543088799996 40.676080719000026)</td>\n",
       "    </tr>\n",
       "    <tr>\n",
       "      <th>14848</th>\n",
       "      <td>189476256</td>\n",
       "      <td>2018-11-02</td>\n",
       "      <td>NaN</td>\n",
       "      <td>NaN</td>\n",
       "      <td>NaN</td>\n",
       "      <td>NaN</td>\n",
       "      <td>NaN</td>\n",
       "      <td>NaN</td>\n",
       "      <td>M</td>\n",
       "      <td>7</td>\n",
       "      <td>0.0</td>\n",
       "      <td>25-44</td>\n",
       "      <td>M</td>\n",
       "      <td>WHITE HISPANIC</td>\n",
       "      <td>988702.0</td>\n",
       "      <td>200012.0</td>\n",
       "      <td>40.715671</td>\n",
       "      <td>-73.983942</td>\n",
       "      <td>POINT (-73.98394174399994 40.71567057300007)</td>\n",
       "    </tr>\n",
       "    <tr>\n",
       "      <th>22259</th>\n",
       "      <td>188601148</td>\n",
       "      <td>2018-10-10</td>\n",
       "      <td>NaN</td>\n",
       "      <td>NaN</td>\n",
       "      <td>NaN</td>\n",
       "      <td>NaN</td>\n",
       "      <td>NaN</td>\n",
       "      <td>NaN</td>\n",
       "      <td>B</td>\n",
       "      <td>43</td>\n",
       "      <td>0.0</td>\n",
       "      <td>25-44</td>\n",
       "      <td>M</td>\n",
       "      <td>BLACK</td>\n",
       "      <td>1017998.0</td>\n",
       "      <td>239446.0</td>\n",
       "      <td>40.823843</td>\n",
       "      <td>-73.878064</td>\n",
       "      <td>POINT (-73.87806433299994 40.82384329800004)</td>\n",
       "    </tr>\n",
       "    <tr>\n",
       "      <th>23700</th>\n",
       "      <td>188405535</td>\n",
       "      <td>2018-10-05</td>\n",
       "      <td>NaN</td>\n",
       "      <td>NaN</td>\n",
       "      <td>NaN</td>\n",
       "      <td>NaN</td>\n",
       "      <td>NaN</td>\n",
       "      <td>NaN</td>\n",
       "      <td>B</td>\n",
       "      <td>41</td>\n",
       "      <td>0.0</td>\n",
       "      <td>25-44</td>\n",
       "      <td>M</td>\n",
       "      <td>WHITE HISPANIC</td>\n",
       "      <td>1013086.0</td>\n",
       "      <td>236614.0</td>\n",
       "      <td>40.816088</td>\n",
       "      <td>-73.895824</td>\n",
       "      <td>POINT (-73.89582435399994 40.81608766100004)</td>\n",
       "    </tr>\n",
       "    <tr>\n",
       "      <th>...</th>\n",
       "      <td>...</td>\n",
       "      <td>...</td>\n",
       "      <td>...</td>\n",
       "      <td>...</td>\n",
       "      <td>...</td>\n",
       "      <td>...</td>\n",
       "      <td>...</td>\n",
       "      <td>...</td>\n",
       "      <td>...</td>\n",
       "      <td>...</td>\n",
       "      <td>...</td>\n",
       "      <td>...</td>\n",
       "      <td>...</td>\n",
       "      <td>...</td>\n",
       "      <td>...</td>\n",
       "      <td>...</td>\n",
       "      <td>...</td>\n",
       "      <td>...</td>\n",
       "      <td>...</td>\n",
       "    </tr>\n",
       "    <tr>\n",
       "      <th>5025197</th>\n",
       "      <td>212182277</td>\n",
       "      <td>2020-04-20</td>\n",
       "      <td>NaN</td>\n",
       "      <td>NaN</td>\n",
       "      <td>NaN</td>\n",
       "      <td>NaN</td>\n",
       "      <td>PL 2650022</td>\n",
       "      <td>M</td>\n",
       "      <td>Q</td>\n",
       "      <td>101</td>\n",
       "      <td>0.0</td>\n",
       "      <td>45-64</td>\n",
       "      <td>M</td>\n",
       "      <td>BLACK</td>\n",
       "      <td>1053650.0</td>\n",
       "      <td>158969.0</td>\n",
       "      <td>40.602746</td>\n",
       "      <td>-73.750078</td>\n",
       "      <td>POINT (-73.75007786499998 40.60274595100003)</td>\n",
       "    </tr>\n",
       "    <tr>\n",
       "      <th>5027025</th>\n",
       "      <td>214332259</td>\n",
       "      <td>2020-06-18</td>\n",
       "      <td>NaN</td>\n",
       "      <td>NaN</td>\n",
       "      <td>NaN</td>\n",
       "      <td>NaN</td>\n",
       "      <td>PL 2410203</td>\n",
       "      <td>M</td>\n",
       "      <td>Q</td>\n",
       "      <td>106</td>\n",
       "      <td>0.0</td>\n",
       "      <td>45-64</td>\n",
       "      <td>F</td>\n",
       "      <td>ASIAN / PACIFIC ISLANDER</td>\n",
       "      <td>1031629.0</td>\n",
       "      <td>177604.0</td>\n",
       "      <td>40.654040</td>\n",
       "      <td>-73.829249</td>\n",
       "      <td>POINT (-73.82924892499994 40.65404010100008)</td>\n",
       "    </tr>\n",
       "    <tr>\n",
       "      <th>5031235</th>\n",
       "      <td>214565344</td>\n",
       "      <td>2020-06-25</td>\n",
       "      <td>NaN</td>\n",
       "      <td>NaN</td>\n",
       "      <td>NaN</td>\n",
       "      <td>NaN</td>\n",
       "      <td>PL 2650022</td>\n",
       "      <td>M</td>\n",
       "      <td>B</td>\n",
       "      <td>42</td>\n",
       "      <td>0.0</td>\n",
       "      <td>25-44</td>\n",
       "      <td>F</td>\n",
       "      <td>BLACK</td>\n",
       "      <td>1008691.0</td>\n",
       "      <td>238872.0</td>\n",
       "      <td>40.822298</td>\n",
       "      <td>-73.911694</td>\n",
       "      <td>POINT (-73.91169413099993 40.82229848500003)</td>\n",
       "    </tr>\n",
       "    <tr>\n",
       "      <th>5046153</th>\n",
       "      <td>211476100</td>\n",
       "      <td>2020-03-25</td>\n",
       "      <td>NaN</td>\n",
       "      <td>NaN</td>\n",
       "      <td>NaN</td>\n",
       "      <td>NaN</td>\n",
       "      <td>PL 2650022</td>\n",
       "      <td>M</td>\n",
       "      <td>M</td>\n",
       "      <td>33</td>\n",
       "      <td>0.0</td>\n",
       "      <td>25-44</td>\n",
       "      <td>M</td>\n",
       "      <td>BLACK HISPANIC</td>\n",
       "      <td>1001992.0</td>\n",
       "      <td>247191.0</td>\n",
       "      <td>40.845148</td>\n",
       "      <td>-73.935876</td>\n",
       "      <td>POINT (-73.93587615099995 40.84514773600006)</td>\n",
       "    </tr>\n",
       "    <tr>\n",
       "      <th>5078187</th>\n",
       "      <td>214354018</td>\n",
       "      <td>2020-06-19</td>\n",
       "      <td>NaN</td>\n",
       "      <td>NaN</td>\n",
       "      <td>NaN</td>\n",
       "      <td>NaN</td>\n",
       "      <td>PL 2650022</td>\n",
       "      <td>M</td>\n",
       "      <td>B</td>\n",
       "      <td>44</td>\n",
       "      <td>0.0</td>\n",
       "      <td>45-64</td>\n",
       "      <td>M</td>\n",
       "      <td>WHITE HISPANIC</td>\n",
       "      <td>1007022.0</td>\n",
       "      <td>243322.0</td>\n",
       "      <td>40.834517</td>\n",
       "      <td>-73.917709</td>\n",
       "      <td>POINT (-73.91770925599997 40.834516921000045)</td>\n",
       "    </tr>\n",
       "  </tbody>\n",
       "</table>\n",
       "<p>269 rows × 19 columns</p>\n",
       "</div>"
      ],
      "text/plain": [
       "         ARREST_KEY ARREST_DATE  PD_CD PD_DESC  KY_CD OFNS_DESC    LAW_CODE  \\\n",
       "991        10837169  2006-04-02    NaN     NaN    NaN       NaN         NaN   \n",
       "7932      189850062  2018-11-11    NaN     NaN    NaN       NaN         NaN   \n",
       "14848     189476256  2018-11-02    NaN     NaN    NaN       NaN         NaN   \n",
       "22259     188601148  2018-10-10    NaN     NaN    NaN       NaN         NaN   \n",
       "23700     188405535  2018-10-05    NaN     NaN    NaN       NaN         NaN   \n",
       "...             ...         ...    ...     ...    ...       ...         ...   \n",
       "5025197   212182277  2020-04-20    NaN     NaN    NaN       NaN  PL 2650022   \n",
       "5027025   214332259  2020-06-18    NaN     NaN    NaN       NaN  PL 2410203   \n",
       "5031235   214565344  2020-06-25    NaN     NaN    NaN       NaN  PL 2650022   \n",
       "5046153   211476100  2020-03-25    NaN     NaN    NaN       NaN  PL 2650022   \n",
       "5078187   214354018  2020-06-19    NaN     NaN    NaN       NaN  PL 2650022   \n",
       "\n",
       "        LAW_CAT_CD ARREST_BORO  ARREST_PRECINCT  JURISDICTION_CODE AGE_GROUP  \\\n",
       "991            NaN           Q              101                0.0       NaN   \n",
       "7932           NaN           K               73               97.0     25-44   \n",
       "14848          NaN           M                7                0.0     25-44   \n",
       "22259          NaN           B               43                0.0     25-44   \n",
       "23700          NaN           B               41                0.0     25-44   \n",
       "...            ...         ...              ...                ...       ...   \n",
       "5025197          M           Q              101                0.0     45-64   \n",
       "5027025          M           Q              106                0.0     45-64   \n",
       "5031235          M           B               42                0.0     25-44   \n",
       "5046153          M           M               33                0.0     25-44   \n",
       "5078187          M           B               44                0.0     45-64   \n",
       "\n",
       "        PERP_SEX                 PERP_RACE  X_COORD_CD  Y_COORD_CD   Latitude  \\\n",
       "991            M                     BLACK   1051775.0    159727.0  40.604841   \n",
       "7932           M                     BLACK   1010482.0    185602.0  40.676081   \n",
       "14848          M            WHITE HISPANIC    988702.0    200012.0  40.715671   \n",
       "22259          M                     BLACK   1017998.0    239446.0  40.823843   \n",
       "23700          M            WHITE HISPANIC   1013086.0    236614.0  40.816088   \n",
       "...          ...                       ...         ...         ...        ...   \n",
       "5025197        M                     BLACK   1053650.0    158969.0  40.602746   \n",
       "5027025        F  ASIAN / PACIFIC ISLANDER   1031629.0    177604.0  40.654040   \n",
       "5031235        F                     BLACK   1008691.0    238872.0  40.822298   \n",
       "5046153        M            BLACK HISPANIC   1001992.0    247191.0  40.845148   \n",
       "5078187        M            WHITE HISPANIC   1007022.0    243322.0  40.834517   \n",
       "\n",
       "         Longitude                                        Lon_Lat  \n",
       "991     -73.756823  POINT (-73.75682250899997 40.604840985000074)  \n",
       "7932    -73.905431  POINT (-73.90543088799996 40.676080719000026)  \n",
       "14848   -73.983942   POINT (-73.98394174399994 40.71567057300007)  \n",
       "22259   -73.878064   POINT (-73.87806433299994 40.82384329800004)  \n",
       "23700   -73.895824   POINT (-73.89582435399994 40.81608766100004)  \n",
       "...            ...                                            ...  \n",
       "5025197 -73.750078   POINT (-73.75007786499998 40.60274595100003)  \n",
       "5027025 -73.829249   POINT (-73.82924892499994 40.65404010100008)  \n",
       "5031235 -73.911694   POINT (-73.91169413099993 40.82229848500003)  \n",
       "5046153 -73.935876   POINT (-73.93587615099995 40.84514773600006)  \n",
       "5078187 -73.917709  POINT (-73.91770925599997 40.834516921000045)  \n",
       "\n",
       "[269 rows x 19 columns]"
      ]
     },
     "execution_count": 48,
     "metadata": {},
     "output_type": "execute_result"
    }
   ],
   "source": [
    "nypd_arrest_df.loc[nypd_arrest_df['PD_CD'].isnull()]"
   ]
  },
  {
   "cell_type": "code",
   "execution_count": null,
   "metadata": {},
   "outputs": [],
   "source": []
  },
  {
   "cell_type": "code",
   "execution_count": null,
   "metadata": {},
   "outputs": [],
   "source": []
  },
  {
   "cell_type": "code",
   "execution_count": null,
   "metadata": {},
   "outputs": [],
   "source": []
  },
  {
   "cell_type": "code",
   "execution_count": null,
   "metadata": {},
   "outputs": [],
   "source": []
  },
  {
   "cell_type": "code",
   "execution_count": null,
   "metadata": {},
   "outputs": [],
   "source": []
  },
  {
   "cell_type": "code",
   "execution_count": null,
   "metadata": {},
   "outputs": [],
   "source": []
  }
 ],
 "metadata": {
  "kernelspec": {
   "display_name": "Python (geo_env)",
   "language": "python",
   "name": "geo_env"
  },
  "language_info": {
   "codemirror_mode": {
    "name": "ipython",
    "version": 3
   },
   "file_extension": ".py",
   "mimetype": "text/x-python",
   "name": "python",
   "nbconvert_exporter": "python",
   "pygments_lexer": "ipython3",
   "version": "3.8.3"
  }
 },
 "nbformat": 4,
 "nbformat_minor": 4
}
